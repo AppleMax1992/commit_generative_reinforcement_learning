{
 "cells": [
  {
   "cell_type": "markdown",
   "metadata": {
    "id": "Wwj39FCi8VW8"
   },
   "source": [
    "# Tune GPT2 to generate controlled sentiment reviews\n",
    "> Optimise GPT2 to produce IMDB movie reviews with controlled sentiment using a BERT sentiment classifier for rewards.\n",
    "\n",
    "**WARNING:** We often experienced loss spikes in this examples which caused model training to fail or slow down. There is a [GitHub issue](https://github.com/lvwerra/trl/issues/101) to track the issue."
   ]
  },
  {
   "cell_type": "markdown",
   "metadata": {
    "id": "xSoKuUBl8VW9"
   },
   "source": [
    "<div style=\"text-align: center\">\n",
    "<img src='https://huggingface.co/datasets/trl-internal-testing/example-images/resolve/main/images/gpt2-ctrl-training-setup.png' width='600'>\n",
    "<p style=\"text-align: center;\"> <b>Figure:</b> Experiment setup to tune GPT2. The yellow arrows are outside the scope of this notebook, but the trained models are available through Hugging Face. </p>\n",
    "</div>\n",
    "\n",
    "\n",
    "The experiment setup is very similar to the positive sentiment notebook. However, in this notebook we fine-tune GPT2 (small) to generate **controlled** movie reviews based on the IMDB dataset. The model gets the target sentiment and 5 tokens from a real review and is tasked to produce continuations with the targeted sentiment. The reward for the continuations is calculated with the logits of a BERT sentiment classifier. That reward is then used for PPO training."
   ]
  },
  {
   "cell_type": "markdown",
   "metadata": {
    "id": "yqeHaF9A8VW-"
   },
   "source": [
    "## Setup experiment"
   ]
  },
  {
   "cell_type": "markdown",
   "metadata": {
    "id": "qyK6pOWq8VW-"
   },
   "source": [
    "### Import dependencies"
   ]
  },
  {
   "cell_type": "code",
   "execution_count": 1,
   "metadata": {
    "colab": {
     "base_uri": "https://localhost:8080/"
    },
    "execution": {
     "iopub.execute_input": "2025-10-02T14:14:50.016817Z",
     "iopub.status.busy": "2025-10-02T14:14:50.016351Z",
     "iopub.status.idle": "2025-10-02T14:14:50.020773Z",
     "shell.execute_reply": "2025-10-02T14:14:50.019852Z",
     "shell.execute_reply.started": "2025-10-02T14:14:50.016778Z"
    },
    "id": "Zd402c8w8bc-",
    "outputId": "69d91bc2-8cc6-4c1a-8f2d-195780d95ba0"
   },
   "outputs": [],
   "source": [
    "# !pip install trl==0.11.4"
   ]
  },
  {
   "cell_type": "code",
   "execution_count": 2,
   "metadata": {
    "execution": {
     "iopub.execute_input": "2025-10-02T14:14:50.023999Z",
     "iopub.status.busy": "2025-10-02T14:14:50.023414Z",
     "iopub.status.idle": "2025-10-02T14:14:50.027492Z",
     "shell.execute_reply": "2025-10-02T14:14:50.026592Z",
     "shell.execute_reply.started": "2025-10-02T14:14:50.023951Z"
    },
    "id": "_agwXaV58VW-"
   },
   "outputs": [],
   "source": [
    "# %load_ext autoreload\n",
    "# %autoreload 2"
   ]
  },
  {
   "cell_type": "code",
   "execution_count": 3,
   "metadata": {
    "execution": {
     "iopub.execute_input": "2025-10-02T14:14:50.029217Z",
     "iopub.status.busy": "2025-10-02T14:14:50.028683Z",
     "iopub.status.idle": "2025-10-02T14:14:56.132743Z",
     "shell.execute_reply": "2025-10-02T14:14:56.131981Z",
     "shell.execute_reply.started": "2025-10-02T14:14:50.029173Z"
    },
    "id": "nKhgHb518VW_"
   },
   "outputs": [],
   "source": [
    "import random\n",
    "import torch\n",
    "import wandb\n",
    "import time\n",
    "import os\n",
    "from tqdm.auto import tqdm\n",
    "import numpy as np\n",
    "import pandas as pd\n",
    "from random import choices\n",
    "import matplotlib.pyplot as plt\n",
    "\n",
    "tqdm.pandas()\n",
    "\n",
    "from datasets import load_dataset\n",
    "\n",
    "from transformers import AutoTokenizer, pipeline\n",
    "\n",
    "from trl import (\n",
    "    PPOTrainer,\n",
    "    PPOConfig,\n",
    "    AutoModelForCausalLMWithValueHead,\n",
    "    create_reference_model,\n",
    ")"
   ]
  },
  {
   "cell_type": "markdown",
   "metadata": {
    "id": "diQgtTJL8VW_"
   },
   "source": [
    "### Configuration"
   ]
  },
  {
   "cell_type": "code",
   "execution_count": 4,
   "metadata": {
    "colab": {
     "base_uri": "https://localhost:8080/"
    },
    "execution": {
     "iopub.execute_input": "2025-10-02T14:14:56.134048Z",
     "iopub.status.busy": "2025-10-02T14:14:56.133668Z",
     "iopub.status.idle": "2025-10-02T14:14:56.139285Z",
     "shell.execute_reply": "2025-10-02T14:14:56.138625Z",
     "shell.execute_reply.started": "2025-10-02T14:14:56.134022Z"
    },
    "id": "EiunZ7YX8VW_",
    "outputId": "9a0ffd11-7d08-4120-ab88-3afc4c082506"
   },
   "outputs": [
    {
     "name": "stderr",
     "output_type": "stream",
     "text": [
      "/root/miniconda3/lib/python3.10/site-packages/trl/trainer/ppo_config.py:207: FutureWarning: `PPOConfig` is deprecated and will be removed in the future. Please use `PPOv2Config` with `PPOv2Trainer` instead.\n",
      "  warnings.warn(\n"
     ]
    }
   ],
   "source": [
    "commit_pipe_kwargs = {\"top_k\": None, \"function_to_apply\": \"none\"}\n",
    "\n",
    "config = PPOConfig(\n",
    "    model_name=\"/root/autodl-tmp/models/llama-2-7b-bnb-4bit\",\n",
    "    steps=51200,\n",
    "    learning_rate=1.41e-5,\n",
    "    remove_unused_columns=False,\n",
    "    log_with=\"wandb\",\n",
    ")\n",
    "\n",
    "txt_in_len = 5\n",
    "txt_out_len = 20\n",
    "seed = 1"
   ]
  },
  {
   "cell_type": "code",
   "execution_count": 5,
   "metadata": {
    "execution": {
     "iopub.execute_input": "2025-10-02T14:14:56.140267Z",
     "iopub.status.busy": "2025-10-02T14:14:56.140060Z",
     "iopub.status.idle": "2025-10-02T14:14:56.143638Z",
     "shell.execute_reply": "2025-10-02T14:14:56.143025Z",
     "shell.execute_reply.started": "2025-10-02T14:14:56.140244Z"
    },
    "id": "WsRGwd1h8VXA"
   },
   "outputs": [],
   "source": [
    "np.random.seed(seed)"
   ]
  },
  {
   "cell_type": "markdown",
   "metadata": {
    "id": "NHQgPOug8VXA"
   },
   "source": [
    "You can see that we load a GPT2 model called `gpt2_imdb`. This model was additionally fine-tuned on the IMDB dataset for 1 epoch with the huggingface [script](https://github.com/huggingface/transformers/blob/master/examples/run_language_modeling.py) (no special settings). The other parameters are mostly taken from the original paper [\"Fine-Tuning Language Models from Human Preferences\"](\n",
    "https://huggingface.co/papers/1909.08593). This model as well as the BERT model is available in the Huggingface model zoo [here](https://huggingface.co/models). The following code should automatically download the models."
   ]
  },
  {
   "cell_type": "markdown",
   "metadata": {
    "id": "P5FyJVLl8VXA"
   },
   "source": [
    "## Load data and models"
   ]
  },
  {
   "cell_type": "markdown",
   "metadata": {
    "id": "YHyp8PVt8VXB"
   },
   "source": [
    "### Load pre-trained GPT2 language models"
   ]
  },
  {
   "cell_type": "markdown",
   "metadata": {
    "id": "MChMIKms8VXB"
   },
   "source": [
    "We load the GPT2 model with a value head and the tokenizer. We load the model twice; the first model is optimized while the second model serves as a reference to calculate the KL-divergence from the starting point. This serves as an additional reward signal in the PPO training to make sure the optimized model does not deviate too much from the original language model."
   ]
  },
  {
   "cell_type": "code",
   "execution_count": 6,
   "metadata": {
    "colab": {
     "base_uri": "https://localhost:8080/",
     "height": 373,
     "referenced_widgets": [
      "65894a9b784149ef86475d11bf73b8aa",
      "e71bc8d668ab42778a533cdb23100684",
      "95717658f85a4029bb2a3b19acc0abab",
      "4461f020dc3a47f293450171ee0ea85b",
      "5ddd59e3ac6a49b3803af0dd7ee550e7",
      "86f7c09351dd4ea48ab29c302dc92b96",
      "66055024841d4158b60bdfd4945a4c88",
      "3e6e5d254a794b528dd8821a9f917a72",
      "76a3259150b84ded834fab84e826a027",
      "345e2bfdde8143458c997669717e70d3",
      "7c8d3a71da3949ea89d477684979c7fc",
      "79a6286fb73e4313bc09ad5b8376e763",
      "21c708d78411425eae4ec1ec63600f4b",
      "7b77b02c6708482d86a42bca67f8393a",
      "826c3c2d4dd64898a52db84871c53e37",
      "9c64d4596ac947a48243a832e00dde49",
      "452f552b1d0d4c179ab326e59d75014a",
      "4432a08caf1b43a69f8993516f8feb45",
      "7c220fa25b374b2599dfe046ddc37d89",
      "7fc9cd6b47ed4aba95b04cc5fe523015",
      "25dbb9dab3be451fbae095e34fcad18e",
      "a77e5075ec554c2d8cb462a0666e5108",
      "2c519f9d73084e45a55a78fdb9be227f",
      "78c65b2cb08c4c1ab48327e193cfb653",
      "ca1a60dbf5fd41edb4a2374927d59290",
      "2b42cae8dc96472bb89d123cd1234851",
      "58c84b72a67c4aebb7c5b7f988bf21d7",
      "a5133225944242ea8566decf4169a7ca",
      "79f9f2026d734ea9954c6e1e44c0079b",
      "7441a59afd9e410087c6a2e3afb09a89",
      "53cd92f3da624214b64ff0c9bf59ccda",
      "c155ccede0584d93aff0594c0a0996a8",
      "16ac7fa6c9a74162b5a7efd5acd4217a",
      "c7655b1f82f04722965fbb2a5a7386da",
      "2162d9b7274d4e938b7f2df5e6baf8fc",
      "46ef30bb565d4d3bba56dce1713dd450",
      "5d95e970ccc540388a8c3dd5e91664a4",
      "a14dcdd1868b4ad1853d7b41e91f0c77",
      "fa82928ec98d4ffc9977ae223303a85b",
      "436088a1cc614371bcca801f4802ee37",
      "b03f66aa0e1648e5aaae9e5abd560b16",
      "bc9ebe59c8eb413aa0fe0db169ca69ac",
      "9347c2fd53ba47a2b8b86043ba529d23",
      "4e6dd48281fb4ce58f49bee4808e4059",
      "03567660a91f4ac78999f921b609e242",
      "1fa1baf7df744d6b8e9e5d7fabc67345",
      "4cbc90a5ed1b4e5da61054f13b699053",
      "24b1a89895b54e99b8fbcdcfedc59166",
      "b78d2949b2964ae29757595d79a3d256",
      "b4987dde895e461fa78c76ef75dd49c8",
      "b90a41b123cc4365961d5fd1e55bee39",
      "996ce9665a0e4e619bcee99f4158bf2b",
      "997800455e424581b6bb46ef9d2478d9",
      "f6ec84261084479fb68635213a721c1f",
      "458e6f95a81140408755a0934bcc6c49",
      "50a121fd39314fb0b1a52d12d059c8a7",
      "88756c33f9e445cb84b54668e86f4895",
      "ee179ae75ece44b28ef899851f951188",
      "af795f97c4374b3f9f9ed5a983b2305b",
      "e83378f641b644c49b128d7ed46a854d",
      "fa3684b160b040118693005150836479",
      "d851ad7dd13c4d20bb82caa73bd85122",
      "24890c5b241048bd80a9de9f4a8f6a71",
      "5d9d32fbc9694614b49f4f2aff55413e",
      "9872eba8f2324f2ba022cb826661000c",
      "0698bcc01ea147218f0835df73fe403d",
      "705a89f44c6f4aa0b8e3a803ce1774a1",
      "e9bf560ab9594085af461375b0183700",
      "4a58ad2f82c04415a6ef770190586b28",
      "bc4d36c1d6014aaebcf5e7eb83dcebe5",
      "89a91db4fbec4f00991dae0e257f7145",
      "3b6913bfbea44634ab179ffa15e914dc",
      "fd482ccba50147888af089976c28b715",
      "bc3f85935c9040faafbb0c0bdc7a7923",
      "cbda542d0ba6494eb8a91eb685b066bf",
      "18bcf0683f134636b2d062e1d8e92dca",
      "76f7e8478f2e4e25a9a60735cd174039"
     ]
    },
    "execution": {
     "iopub.execute_input": "2025-10-02T14:14:56.145799Z",
     "iopub.status.busy": "2025-10-02T14:14:56.145508Z",
     "iopub.status.idle": "2025-10-02T14:14:58.072923Z",
     "shell.execute_reply": "2025-10-02T14:14:58.072169Z",
     "shell.execute_reply.started": "2025-10-02T14:14:56.145775Z"
    },
    "id": "PVK28idZ8VXB",
    "outputId": "aab3b514-e2fd-4c4b-fcfd-c2cbe94b64b9"
   },
   "outputs": [],
   "source": [
    "gpt2_model = AutoModelForCausalLMWithValueHead.from_pretrained(config.model_name)\n",
    "gpt2_ref_model = create_reference_model(gpt2_model)\n",
    "gpt2_tokenizer = AutoTokenizer.from_pretrained(config.model_name)\n",
    "\n",
    "gpt2_tokenizer.pad_token = gpt2_tokenizer.eos_token"
   ]
  },
  {
   "cell_type": "code",
   "execution_count": 7,
   "metadata": {
    "colab": {
     "base_uri": "https://localhost:8080/"
    },
    "execution": {
     "iopub.execute_input": "2025-10-02T14:14:58.074063Z",
     "iopub.status.busy": "2025-10-02T14:14:58.073840Z",
     "iopub.status.idle": "2025-10-02T14:14:58.078320Z",
     "shell.execute_reply": "2025-10-02T14:14:58.077618Z",
     "shell.execute_reply.started": "2025-10-02T14:14:58.074038Z"
    },
    "id": "T4SdVCA1Elc0",
    "outputId": "5992ef2f-7b98-416c-a496-2b81ab8765b7"
   },
   "outputs": [
    {
     "name": "stdout",
     "output_type": "stream",
     "text": [
      "eos_token_id: 2\n",
      "pad_token_id: 2\n"
     ]
    }
   ],
   "source": [
    "# 确保 eos_token_id 是正数\n",
    "print(\"eos_token_id:\", gpt2_tokenizer.eos_token_id)\n",
    "print(\"pad_token_id:\", gpt2_tokenizer.pad_token_id)"
   ]
  },
  {
   "cell_type": "markdown",
   "metadata": {
    "id": "2HcNaPa38VXC"
   },
   "source": [
    "### Load IMDB dataset\n",
    "The IMDB dataset contains 50k movie review annotated with \"positive\"/\"negative\" feedback indicating the sentiment.  We load the IMDB dataset into a DataFrame and filter for comments that are at least 500 characters long and take the first 1000 characters of each comment. The first filter we apply to avoid comments that are less than `txt_in_len` token long and the second to avoid tokenizing way more text than we actually need."
   ]
  },
  {
   "cell_type": "code",
   "execution_count": 8,
   "metadata": {
    "execution": {
     "iopub.execute_input": "2025-10-02T14:14:58.079465Z",
     "iopub.status.busy": "2025-10-02T14:14:58.079095Z",
     "iopub.status.idle": "2025-10-02T14:14:58.444996Z",
     "shell.execute_reply": "2025-10-02T14:14:58.444234Z",
     "shell.execute_reply.started": "2025-10-02T14:14:58.079428Z"
    },
    "id": "WKdDRHRL0MVl"
   },
   "outputs": [
    {
     "data": {
      "text/html": [
       "<div>\n",
       "<style scoped>\n",
       "    .dataframe tbody tr th:only-of-type {\n",
       "        vertical-align: middle;\n",
       "    }\n",
       "\n",
       "    .dataframe tbody tr th {\n",
       "        vertical-align: top;\n",
       "    }\n",
       "\n",
       "    .dataframe thead th {\n",
       "        text-align: right;\n",
       "    }\n",
       "</style>\n",
       "<table border=\"1\" class=\"dataframe\">\n",
       "  <thead>\n",
       "    <tr style=\"text-align: right;\">\n",
       "      <th></th>\n",
       "      <th>user</th>\n",
       "      <th>repo</th>\n",
       "      <th>commit</th>\n",
       "      <th>labels</th>\n",
       "      <th>msgs</th>\n",
       "      <th>diffs</th>\n",
       "      <th>feature</th>\n",
       "    </tr>\n",
       "  </thead>\n",
       "  <tbody>\n",
       "    <tr>\n",
       "      <th>0</th>\n",
       "      <td>ponsonio</td>\n",
       "      <td>RxJava</td>\n",
       "      <td>0531b8bff5c14d9504beefb4ad47f473e3a22932</td>\n",
       "      <td>Perfective</td>\n",
       "      <td>Change hasException to hasThrowable--</td>\n",
       "      <td>diff --git a/rxjava-core/src/main/java/rx/Noti...</td>\n",
       "      <td>[1, 0, 0, 4, 0, 0, 0, 0, 0, 0, 0, 0, 0, 0, 0, ...</td>\n",
       "    </tr>\n",
       "    <tr>\n",
       "      <th>1</th>\n",
       "      <td>ponsonio</td>\n",
       "      <td>RxJava</td>\n",
       "      <td>0950c46beda335819928585f1262dfe1dca78a0b</td>\n",
       "      <td>Adaptive</td>\n",
       "      <td>Trying to extend the Scheduler interface accor...</td>\n",
       "      <td>diff --git a/rxjava-core/src/main/java/rx/Sche...</td>\n",
       "      <td>[2, 44, 0, 0, 30, 0, 0, 1, 18, 0, 0, 0, 0, 0, ...</td>\n",
       "    </tr>\n",
       "    <tr>\n",
       "      <th>2</th>\n",
       "      <td>ponsonio</td>\n",
       "      <td>RxJava</td>\n",
       "      <td>0f92fdd8e6422d5b79c610a7fd8409d222315a49</td>\n",
       "      <td>Adaptive</td>\n",
       "      <td>RunAsync method for outputting multiple values--</td>\n",
       "      <td>diff --git a/rxjava-contrib/rxjava-async-util/...</td>\n",
       "      <td>[2, 53, 0, 0, 42, 0, 0, 1, 45, 1, 0, 0, 0, 0, ...</td>\n",
       "    </tr>\n",
       "    <tr>\n",
       "      <th>3</th>\n",
       "      <td>ponsonio</td>\n",
       "      <td>RxJava</td>\n",
       "      <td>100f571c9a2835d5a30a55374b9be74c147e031f</td>\n",
       "      <td>Corrective</td>\n",
       "      <td>forEach with Action1 but not Observer--I re-re...</td>\n",
       "      <td>diff --git a/language-adaptors/rxjava-groovy/s...</td>\n",
       "      <td>[1, 5, 122, 9, 10, 9, 4, 1, 5, 18, 2, 0, 0, 0,...</td>\n",
       "    </tr>\n",
       "    <tr>\n",
       "      <th>4</th>\n",
       "      <td>ponsonio</td>\n",
       "      <td>RxJava</td>\n",
       "      <td>191f023cf5253ea90647bc091dcaf55ccdce81cc</td>\n",
       "      <td>Corrective</td>\n",
       "      <td>1.x: Fix Completable swallows- OnErrorNotImple...</td>\n",
       "      <td>diff --git a/src/main/java/rx/Completable.java...</td>\n",
       "      <td>[1, 1, 0, 0, 0, 0, 0, 1, 21, 0, 0, 0, 0, 0, 0,...</td>\n",
       "    </tr>\n",
       "    <tr>\n",
       "      <th>...</th>\n",
       "      <td>...</td>\n",
       "      <td>...</td>\n",
       "      <td>...</td>\n",
       "      <td>...</td>\n",
       "      <td>...</td>\n",
       "      <td>...</td>\n",
       "      <td>...</td>\n",
       "    </tr>\n",
       "    <tr>\n",
       "      <th>1776</th>\n",
       "      <td>jenkinsci</td>\n",
       "      <td>clearcase-plugin</td>\n",
       "      <td>51e9da224f80254476a7dc446bca817b505381d8</td>\n",
       "      <td>Perfective</td>\n",
       "      <td>Use a temporary file to decrease memory consum...</td>\n",
       "      <td>diff --git a/src/main/java/hudson/plugins/clea...</td>\n",
       "      <td>[2, 12, 0, 4, 1, 0, 1, 0, 0, 0, 0, 0, 0, 0, 0,...</td>\n",
       "    </tr>\n",
       "    <tr>\n",
       "      <th>1777</th>\n",
       "      <td>jexp</td>\n",
       "      <td>batch-import</td>\n",
       "      <td>609d6c4b1eea2c33d9fb950fcbb9ba9dc1f80fc3</td>\n",
       "      <td>Perfective</td>\n",
       "      <td>added a more memory efficient structure for st...</td>\n",
       "      <td>diff --git a/src/main/java/org/neo4j/batchimpo...</td>\n",
       "      <td>[10, 159, 29, 35, 9, 2, 1, 5, 106, 0, 4, 8, 0,...</td>\n",
       "    </tr>\n",
       "    <tr>\n",
       "      <th>1778</th>\n",
       "      <td>hdiv</td>\n",
       "      <td>hdiv</td>\n",
       "      <td>19b650c78a1c76f4fd90274d7f163f863c0d39e4</td>\n",
       "      <td>Perfective</td>\n",
       "      <td>Memory and performance optimizations</td>\n",
       "      <td>diff --git a/hdiv-config/src/main/java/org/hdi...</td>\n",
       "      <td>[31, 302, 131, 140, 170, 89, 53, 7, 88, 14, 17...</td>\n",
       "    </tr>\n",
       "    <tr>\n",
       "      <th>1779</th>\n",
       "      <td>casidiablo</td>\n",
       "      <td>persistence</td>\n",
       "      <td>d7bf95159df37a3d338ca267dddd3d26b38ec37c</td>\n",
       "      <td>Perfective</td>\n",
       "      <td>Now it is possible to specify the sqlite open ...</td>\n",
       "      <td>diff --git a/pom.xml b/pom.xml\\nindex 394263b....</td>\n",
       "      <td>[5, 57, 20, 9, 21, 0, 0, 0, 0, 0, 0, 0, 0, 0, ...</td>\n",
       "    </tr>\n",
       "    <tr>\n",
       "      <th>1780</th>\n",
       "      <td>jhy</td>\n",
       "      <td>jsoup</td>\n",
       "      <td>d6fd1637307f6b088eb226c3f979085725530f32</td>\n",
       "      <td>Perfective</td>\n",
       "      <td>Performance improvment for Element.text</td>\n",
       "      <td>diff --git a/src/main/java/org/jsoup/helper/St...</td>\n",
       "      <td>[3, 11, 11, 9, 13, 0, 0, 1, 0, 8, 0, 0, 1, 0, ...</td>\n",
       "    </tr>\n",
       "  </tbody>\n",
       "</table>\n",
       "<p>1781 rows × 7 columns</p>\n",
       "</div>"
      ],
      "text/plain": [
       "            user              repo                                    commit  \\\n",
       "0       ponsonio            RxJava  0531b8bff5c14d9504beefb4ad47f473e3a22932   \n",
       "1       ponsonio            RxJava  0950c46beda335819928585f1262dfe1dca78a0b   \n",
       "2       ponsonio            RxJava  0f92fdd8e6422d5b79c610a7fd8409d222315a49   \n",
       "3       ponsonio            RxJava  100f571c9a2835d5a30a55374b9be74c147e031f   \n",
       "4       ponsonio            RxJava  191f023cf5253ea90647bc091dcaf55ccdce81cc   \n",
       "...          ...               ...                                       ...   \n",
       "1776   jenkinsci  clearcase-plugin  51e9da224f80254476a7dc446bca817b505381d8   \n",
       "1777        jexp      batch-import  609d6c4b1eea2c33d9fb950fcbb9ba9dc1f80fc3   \n",
       "1778        hdiv              hdiv  19b650c78a1c76f4fd90274d7f163f863c0d39e4   \n",
       "1779  casidiablo       persistence  d7bf95159df37a3d338ca267dddd3d26b38ec37c   \n",
       "1780         jhy             jsoup  d6fd1637307f6b088eb226c3f979085725530f32   \n",
       "\n",
       "          labels                                               msgs  \\\n",
       "0     Perfective              Change hasException to hasThrowable--   \n",
       "1       Adaptive  Trying to extend the Scheduler interface accor...   \n",
       "2       Adaptive   RunAsync method for outputting multiple values--   \n",
       "3     Corrective  forEach with Action1 but not Observer--I re-re...   \n",
       "4     Corrective  1.x: Fix Completable swallows- OnErrorNotImple...   \n",
       "...          ...                                                ...   \n",
       "1776  Perfective  Use a temporary file to decrease memory consum...   \n",
       "1777  Perfective  added a more memory efficient structure for st...   \n",
       "1778  Perfective               Memory and performance optimizations   \n",
       "1779  Perfective  Now it is possible to specify the sqlite open ...   \n",
       "1780  Perfective            Performance improvment for Element.text   \n",
       "\n",
       "                                                  diffs  \\\n",
       "0     diff --git a/rxjava-core/src/main/java/rx/Noti...   \n",
       "1     diff --git a/rxjava-core/src/main/java/rx/Sche...   \n",
       "2     diff --git a/rxjava-contrib/rxjava-async-util/...   \n",
       "3     diff --git a/language-adaptors/rxjava-groovy/s...   \n",
       "4     diff --git a/src/main/java/rx/Completable.java...   \n",
       "...                                                 ...   \n",
       "1776  diff --git a/src/main/java/hudson/plugins/clea...   \n",
       "1777  diff --git a/src/main/java/org/neo4j/batchimpo...   \n",
       "1778  diff --git a/hdiv-config/src/main/java/org/hdi...   \n",
       "1779  diff --git a/pom.xml b/pom.xml\\nindex 394263b....   \n",
       "1780  diff --git a/src/main/java/org/jsoup/helper/St...   \n",
       "\n",
       "                                                feature  \n",
       "0     [1, 0, 0, 4, 0, 0, 0, 0, 0, 0, 0, 0, 0, 0, 0, ...  \n",
       "1     [2, 44, 0, 0, 30, 0, 0, 1, 18, 0, 0, 0, 0, 0, ...  \n",
       "2     [2, 53, 0, 0, 42, 0, 0, 1, 45, 1, 0, 0, 0, 0, ...  \n",
       "3     [1, 5, 122, 9, 10, 9, 4, 1, 5, 18, 2, 0, 0, 0,...  \n",
       "4     [1, 1, 0, 0, 0, 0, 0, 1, 21, 0, 0, 0, 0, 0, 0,...  \n",
       "...                                                 ...  \n",
       "1776  [2, 12, 0, 4, 1, 0, 1, 0, 0, 0, 0, 0, 0, 0, 0,...  \n",
       "1777  [10, 159, 29, 35, 9, 2, 1, 5, 106, 0, 4, 8, 0,...  \n",
       "1778  [31, 302, 131, 140, 170, 89, 53, 7, 88, 14, 17...  \n",
       "1779  [5, 57, 20, 9, 21, 0, 0, 0, 0, 0, 0, 0, 0, 0, ...  \n",
       "1780  [3, 11, 11, 9, 13, 0, 0, 1, 0, 8, 0, 0, 1, 0, ...  \n",
       "\n",
       "[1781 rows x 7 columns]"
      ]
     },
     "execution_count": 8,
     "metadata": {},
     "output_type": "execute_result"
    }
   ],
   "source": [
    "import pandas as pd\n",
    "dataset = pd.read_csv('/root/autodl-tmp/CommitFit/dataset/Ghadhab/dataset.csv')\n",
    "dataset"
   ]
  },
  {
   "cell_type": "code",
   "execution_count": 9,
   "metadata": {
    "execution": {
     "iopub.execute_input": "2025-10-02T14:14:58.446086Z",
     "iopub.status.busy": "2025-10-02T14:14:58.445869Z",
     "iopub.status.idle": "2025-10-02T14:14:58.453018Z",
     "shell.execute_reply": "2025-10-02T14:14:58.452266Z",
     "shell.execute_reply.started": "2025-10-02T14:14:58.446062Z"
    }
   },
   "outputs": [
    {
     "data": {
      "text/plain": [
       "('Change hasException to hasThrowable--', 'Perfective')"
      ]
     },
     "execution_count": 9,
     "metadata": {},
     "output_type": "execute_result"
    }
   ],
   "source": [
    "dataset[['msgs','labels']][:1]['msgs'][0],dataset[['msgs','labels']][:1]['labels'][0]"
   ]
  },
  {
   "cell_type": "code",
   "execution_count": 10,
   "metadata": {
    "execution": {
     "iopub.execute_input": "2025-10-02T14:14:58.454282Z",
     "iopub.status.busy": "2025-10-02T14:14:58.453995Z",
     "iopub.status.idle": "2025-10-02T14:14:58.460775Z",
     "shell.execute_reply": "2025-10-02T14:14:58.460132Z",
     "shell.execute_reply.started": "2025-10-02T14:14:58.454253Z"
    }
   },
   "outputs": [
    {
     "data": {
      "text/plain": [
       "('Trying to extend the Scheduler interface according- to the comments at -19.--',\n",
       " 'Adaptive')"
      ]
     },
     "execution_count": 10,
     "metadata": {},
     "output_type": "execute_result"
    }
   ],
   "source": [
    "dataset[['msgs','labels']][:2]['msgs'][1],dataset[['msgs','labels']][:2]['labels'][1]"
   ]
  },
  {
   "cell_type": "code",
   "execution_count": 11,
   "metadata": {
    "execution": {
     "iopub.execute_input": "2025-10-02T14:14:58.461996Z",
     "iopub.status.busy": "2025-10-02T14:14:58.461648Z",
     "iopub.status.idle": "2025-10-02T14:14:58.468362Z",
     "shell.execute_reply": "2025-10-02T14:14:58.467711Z",
     "shell.execute_reply.started": "2025-10-02T14:14:58.461967Z"
    }
   },
   "outputs": [
    {
     "data": {
      "text/plain": [
       "('RunAsync method for outputting multiple values--', 'Adaptive')"
      ]
     },
     "execution_count": 11,
     "metadata": {},
     "output_type": "execute_result"
    }
   ],
   "source": [
    "dataset[['msgs','labels']][:3]['msgs'][2],dataset[['msgs','labels']][:3]['labels'][2]"
   ]
  },
  {
   "cell_type": "code",
   "execution_count": 12,
   "metadata": {
    "execution": {
     "iopub.execute_input": "2025-10-02T14:14:58.469482Z",
     "iopub.status.busy": "2025-10-02T14:14:58.469229Z",
     "iopub.status.idle": "2025-10-02T14:14:58.500551Z",
     "shell.execute_reply": "2025-10-02T14:14:58.499882Z",
     "shell.execute_reply.started": "2025-10-02T14:14:58.469454Z"
    }
   },
   "outputs": [],
   "source": [
    "from datasets import load_dataset\n",
    "# 使用自己的CSV文件\n",
    "dataset = load_dataset(\n",
    "     \"csv\",\n",
    "    data_files=\"/root/autodl-tmp/CommitFit/dataset/Ghadhab/dataset.csv\",  # 替换为你的文件路径\n",
    "    split=\"train\"\n",
    ")\n"
   ]
  },
  {
   "cell_type": "code",
   "execution_count": 13,
   "metadata": {
    "execution": {
     "iopub.execute_input": "2025-10-02T14:14:58.501766Z",
     "iopub.status.busy": "2025-10-02T14:14:58.501419Z",
     "iopub.status.idle": "2025-10-02T14:14:58.504947Z",
     "shell.execute_reply": "2025-10-02T14:14:58.504251Z",
     "shell.execute_reply.started": "2025-10-02T14:14:58.501740Z"
    },
    "id": "TV4xVYeX8VXC"
   },
   "outputs": [],
   "source": [
    "# # create the dataset\n",
    "# #\n",
    "# dataset = load_dataset(\"/root/.cache/huggingface/datasets/stanfordnlp___imdb\", split=\"train\")\n",
    "# dataset = dataset.rename_columns({\"text\": \"review\", \"label\": \"sentiment\"})\n",
    "# # make sure the comments are are at least 500 and trim to 1000\n",
    "# dataset = dataset.filter(lambda x: len(x[\"review\"]) > 500, batched=False)\n",
    "# dataset = dataset.map(lambda x: {\"review\": x[\"review\"][:1000]}, batched=False)\n",
    "\n",
    "# dataset"
   ]
  },
  {
   "cell_type": "markdown",
   "metadata": {
    "id": "qH9CnikC8VXC"
   },
   "source": [
    "### Tokenize IMDB reviews"
   ]
  },
  {
   "cell_type": "markdown",
   "metadata": {
    "id": "4r01MBI78VXC"
   },
   "source": [
    "We tokenize all IMDB in advance to avoid tokenizing twice. In the first step we encode the queries and slice the first `txt_in_len` tokens. In a second step we decode these tokens back to text for later display."
   ]
  },
  {
   "cell_type": "code",
   "execution_count": 14,
   "metadata": {
    "execution": {
     "iopub.execute_input": "2025-10-02T14:14:58.505946Z",
     "iopub.status.busy": "2025-10-02T14:14:58.505736Z",
     "iopub.status.idle": "2025-10-02T14:14:58.510399Z",
     "shell.execute_reply": "2025-10-02T14:14:58.509734Z",
     "shell.execute_reply.started": "2025-10-02T14:14:58.505921Z"
    }
   },
   "outputs": [
    {
     "data": {
      "text/plain": [
       "Dataset({\n",
       "    features: ['user', 'repo', 'commit', 'labels', 'msgs', 'diffs', 'feature'],\n",
       "    num_rows: 1781\n",
       "})"
      ]
     },
     "execution_count": 14,
     "metadata": {},
     "output_type": "execute_result"
    }
   ],
   "source": [
    "dataset"
   ]
  },
  {
   "cell_type": "code",
   "execution_count": 15,
   "metadata": {
    "colab": {
     "base_uri": "https://localhost:8080/",
     "height": 81,
     "referenced_widgets": [
      "d826c1efbdf2423e853a3b5844f5a979",
      "b086a549590a4215bda97d750b65235e",
      "2065e1489aef4367b2adc4615dabdcaa",
      "7c74b8eb81d04827a92d9c5b21506854",
      "6243cbd9c95e4623aaad3f4cd2c94350",
      "5b592ffac1a3476cb52c9e28e4a1c815",
      "12c702f541454560aa9484547995834f",
      "8d04c2f5555b4ae385fad417f7faf829",
      "91c987fe9e37434bafff869e52564e57",
      "0daf9a0c32c24e1b9e5b89ff9f624cdb",
      "b716c23526ec47a987153737ce72fe6b",
      "600de8d642f94c2ab6afdf6bf89b475f",
      "6f6c7b0db11d4c958aee4ccc5da2e97e",
      "978bf5b6be6a40428acdb0868e70d385",
      "95a40e299c834d00b51921f17a37bc95",
      "f354c62edd804c18bbe11bef04584919",
      "b54a2ad0639b4091ac70c642274851b4",
      "64a7019d24a94765beec31df411526e3",
      "f4bdc4ef2168438eb3ba63eaf0e3ac02",
      "fafcbc887b9d486f98d089d3c312b067",
      "54873d33c4994be08ce614a91b85c020",
      "5606675ab72d4d159aad33e1a35b0646"
     ]
    },
    "execution": {
     "iopub.execute_input": "2025-10-02T14:14:58.511578Z",
     "iopub.status.busy": "2025-10-02T14:14:58.511326Z",
     "iopub.status.idle": "2025-10-02T14:14:58.924907Z",
     "shell.execute_reply": "2025-10-02T14:14:58.924050Z",
     "shell.execute_reply.started": "2025-10-02T14:14:58.511550Z"
    },
    "id": "q6zGw_-S8VXD",
    "outputId": "61cc257f-171b-4b5b-861c-d0cb9b223e63"
   },
   "outputs": [],
   "source": [
    "dataset = dataset.map(\n",
    "    lambda x: {\n",
    "        \"input_ids\": gpt2_tokenizer.encode(\"Please read the following code and write comments in natural language:\\n\" + x[\"diffs\"][:500]+\"\\nComments:\", return_tensors=\"pt\")[\n",
    "            0, :txt_in_len\n",
    "        ]\n",
    "    },\n",
    "    batched=False,\n",
    "    # disable_tqdm=False\n",
    ")\n",
    "dataset = dataset.map(\n",
    "    lambda x: {\"query\": gpt2_tokenizer.decode(x[\"input_ids\"])}, batched=False\n",
    ")\n",
    "dataset = dataset[:20480]\n",
    "\n",
    "from datasets import Dataset\n",
    "\n",
    "dataset = Dataset.from_dict(dataset)\n",
    "dataset.set_format(\"pytorch\")"
   ]
  },
  {
   "cell_type": "code",
   "execution_count": 16,
   "metadata": {
    "colab": {
     "base_uri": "https://localhost:8080/"
    },
    "execution": {
     "iopub.execute_input": "2025-10-02T14:14:58.928770Z",
     "iopub.status.busy": "2025-10-02T14:14:58.928520Z",
     "iopub.status.idle": "2025-10-02T14:14:58.935665Z",
     "shell.execute_reply": "2025-10-02T14:14:58.935031Z",
     "shell.execute_reply.started": "2025-10-02T14:14:58.928745Z"
    },
    "id": "zvhlVH_q8VXD",
    "outputId": "237d3cbc-b586-47cc-e728-9315ea9f7fa1"
   },
   "outputs": [
    {
     "data": {
      "text/plain": [
       "tensor([   1, 3529, 1303,  278, 1494])"
      ]
     },
     "execution_count": 16,
     "metadata": {},
     "output_type": "execute_result"
    }
   ],
   "source": [
    "dataset[3][\"input_ids\"]"
   ]
  },
  {
   "cell_type": "code",
   "execution_count": 17,
   "metadata": {
    "execution": {
     "iopub.execute_input": "2025-10-02T14:14:58.936878Z",
     "iopub.status.busy": "2025-10-02T14:14:58.936472Z",
     "iopub.status.idle": "2025-10-02T14:14:58.940174Z",
     "shell.execute_reply": "2025-10-02T14:14:58.939439Z",
     "shell.execute_reply.started": "2025-10-02T14:14:58.936852Z"
    },
    "id": "9DDOahxa8VXD"
   },
   "outputs": [],
   "source": [
    "def collator(data):\n",
    "    return dict((key, [d[key] for d in data]) for key in data[0])"
   ]
  },
  {
   "cell_type": "code",
   "execution_count": 18,
   "metadata": {
    "colab": {
     "base_uri": "https://localhost:8080/",
     "height": 202
    },
    "execution": {
     "iopub.execute_input": "2025-10-02T14:14:58.941296Z",
     "iopub.status.busy": "2025-10-02T14:14:58.941000Z",
     "iopub.status.idle": "2025-10-02T14:15:01.938296Z",
     "shell.execute_reply": "2025-10-02T14:15:01.937457Z",
     "shell.execute_reply.started": "2025-10-02T14:14:58.941267Z"
    },
    "id": "ipbojnfT8VXE",
    "outputId": "d8c6809c-0163-4727-9c7e-d428ede8d717"
   },
   "outputs": [
    {
     "name": "stderr",
     "output_type": "stream",
     "text": [
      "/root/miniconda3/lib/python3.10/site-packages/trl/trainer/ppo_trainer.py:193: FutureWarning: `PPOTrainer` is deprecated and will be removed in trl v0.12. Please use `PPOv2Trainer` instead.\n",
      "  warnings.warn(\n",
      "Detected kernel version 5.4.0, which is below the recommended minimum of 5.5.0; this can cause the process to hang. It is recommended to upgrade the kernel to the minimum version or higher.\n",
      "\u001b[34m\u001b[1mwandb\u001b[0m: \u001b[32m\u001b[41mERROR\u001b[0m Failed to detect the name of this notebook. You can set it manually with the WANDB_NOTEBOOK_NAME environment variable to enable code saving.\n",
      "\u001b[34m\u001b[1mwandb\u001b[0m: Currently logged in as: \u001b[33mtongjiajun1992\u001b[0m (\u001b[33mtongjiajun1992-china-university-of-mining-and-technology\u001b[0m) to \u001b[32mhttps://api.wandb.ai\u001b[0m. Use \u001b[1m`wandb login --relogin`\u001b[0m to force relogin\n"
     ]
    },
    {
     "data": {
      "text/html": [
       "creating run (0.3s)"
      ],
      "text/plain": [
       "<IPython.core.display.HTML object>"
      ]
     },
     "metadata": {},
     "output_type": "display_data"
    },
    {
     "data": {
      "text/html": [
       "Tracking run with wandb version 0.21.1"
      ],
      "text/plain": [
       "<IPython.core.display.HTML object>"
      ]
     },
     "metadata": {},
     "output_type": "display_data"
    },
    {
     "data": {
      "text/html": [
       "Run data is saved locally in <code>/root/autodl-tmp/wandb/run-20251002_221500-ibbpkg8f</code>"
      ],
      "text/plain": [
       "<IPython.core.display.HTML object>"
      ]
     },
     "metadata": {},
     "output_type": "display_data"
    },
    {
     "data": {
      "text/html": [
       "Syncing run <strong><a href='https://wandb.ai/tongjiajun1992-china-university-of-mining-and-technology/trl/runs/ibbpkg8f' target=\"_blank\">zany-field-72</a></strong> to <a href='https://wandb.ai/tongjiajun1992-china-university-of-mining-and-technology/trl' target=\"_blank\">Weights & Biases</a> (<a href='https://wandb.me/developer-guide' target=\"_blank\">docs</a>)<br>"
      ],
      "text/plain": [
       "<IPython.core.display.HTML object>"
      ]
     },
     "metadata": {},
     "output_type": "display_data"
    },
    {
     "data": {
      "text/html": [
       " View project at <a href='https://wandb.ai/tongjiajun1992-china-university-of-mining-and-technology/trl' target=\"_blank\">https://wandb.ai/tongjiajun1992-china-university-of-mining-and-technology/trl</a>"
      ],
      "text/plain": [
       "<IPython.core.display.HTML object>"
      ]
     },
     "metadata": {},
     "output_type": "display_data"
    },
    {
     "data": {
      "text/html": [
       " View run at <a href='https://wandb.ai/tongjiajun1992-china-university-of-mining-and-technology/trl/runs/ibbpkg8f' target=\"_blank\">https://wandb.ai/tongjiajun1992-china-university-of-mining-and-technology/trl/runs/ibbpkg8f</a>"
      ],
      "text/plain": [
       "<IPython.core.display.HTML object>"
      ]
     },
     "metadata": {},
     "output_type": "display_data"
    }
   ],
   "source": [
    "ppo_trainer = PPOTrainer(\n",
    "    config, gpt2_model, gpt2_ref_model, gpt2_tokenizer, dataset, data_collator=collator\n",
    ")"
   ]
  },
  {
   "cell_type": "markdown",
   "metadata": {
    "id": "sEVW9RT88VXE"
   },
   "source": [
    "### Load BERT classifier\n",
    "We load a BERT classifier fine-tuned on the IMDB dataset."
   ]
  },
  {
   "cell_type": "code",
   "execution_count": 19,
   "metadata": {
    "execution": {
     "iopub.execute_input": "2025-10-02T14:15:01.939450Z",
     "iopub.status.busy": "2025-10-02T14:15:01.939228Z",
     "iopub.status.idle": "2025-10-02T14:15:01.943371Z",
     "shell.execute_reply": "2025-10-02T14:15:01.942590Z",
     "shell.execute_reply.started": "2025-10-02T14:15:01.939425Z"
    }
   },
   "outputs": [],
   "source": [
    "from transformers import AutoModelForSequenceClassification"
   ]
  },
  {
   "cell_type": "code",
   "execution_count": null,
   "metadata": {},
   "outputs": [],
   "source": []
  },
  {
   "cell_type": "code",
   "execution_count": 20,
   "metadata": {
    "execution": {
     "iopub.execute_input": "2025-10-02T14:15:01.944857Z",
     "iopub.status.busy": "2025-10-02T14:15:01.944296Z",
     "iopub.status.idle": "2025-10-02T14:15:02.254252Z",
     "shell.execute_reply": "2025-10-02T14:15:02.253389Z",
     "shell.execute_reply.started": "2025-10-02T14:15:01.944827Z"
    },
    "id": "xz40568u8VXE"
   },
   "outputs": [
    {
     "name": "stderr",
     "output_type": "stream",
     "text": [
      "Device set to use cuda:0\n"
     ]
    }
   ],
   "source": [
    "if ppo_trainer.accelerator.num_processes == 1:\n",
    "    device = 0 if torch.cuda.is_available() else \"cpu\"  # to avoid a `pipeline` bug\n",
    "else:\n",
    "    device = ppo_trainer.accelerator.device\n",
    "commit_pipe = pipeline(\n",
    "    \"text-classification\", \"/root/autodl-tmp/CommitFit/notebooks/my_awesome_model/checkpoint-468\", device=device\n",
    ")"
   ]
  },
  {
   "cell_type": "markdown",
   "metadata": {
    "id": "4_uFLMuK8VXF"
   },
   "source": [
    "The model outputs are the logits for the negative and positive class. We will use the logits for positive class as a reward signal for the language model."
   ]
  },
  {
   "cell_type": "code",
   "execution_count": 21,
   "metadata": {
    "execution": {
     "iopub.execute_input": "2025-10-02T14:15:02.255453Z",
     "iopub.status.busy": "2025-10-02T14:15:02.255218Z",
     "iopub.status.idle": "2025-10-02T14:15:02.427266Z",
     "shell.execute_reply": "2025-10-02T14:15:02.426593Z",
     "shell.execute_reply.started": "2025-10-02T14:15:02.255428Z"
    },
    "id": "p7sqZU1s8VXF"
   },
   "outputs": [
    {
     "data": {
      "text/plain": [
       "[{'label': 'Corrective', 'score': 4.27896785736084},\n",
       " {'label': 'Perfective', 'score': -1.7570891380310059},\n",
       " {'label': 'Adaptive', 'score': -1.8728036880493164}]"
      ]
     },
     "execution_count": 21,
     "metadata": {},
     "output_type": "execute_result"
    }
   ],
   "source": [
    "text = \"Change hasException to hasThrowable--\"\n",
    "output = commit_pipe(text, **commit_pipe_kwargs)\n",
    "output"
   ]
  },
  {
   "cell_type": "code",
   "execution_count": 22,
   "metadata": {
    "execution": {
     "iopub.execute_input": "2025-10-02T14:15:02.428356Z",
     "iopub.status.busy": "2025-10-02T14:15:02.428140Z",
     "iopub.status.idle": "2025-10-02T14:15:02.446108Z",
     "shell.execute_reply": "2025-10-02T14:15:02.445500Z",
     "shell.execute_reply.started": "2025-10-02T14:15:02.428332Z"
    },
    "id": "QIkMHbBG8VXF"
   },
   "outputs": [
    {
     "data": {
      "text/plain": [
       "[{'label': 'Adaptive', 'score': 3.8357880115509033},\n",
       " {'label': 'Corrective', 'score': -2.2604589462280273},\n",
       " {'label': 'Perfective', 'score': -2.3742270469665527}]"
      ]
     },
     "execution_count": 22,
     "metadata": {},
     "output_type": "execute_result"
    }
   ],
   "source": [
    "text = \"Trying to extend the Scheduler interface according- to the comments at -19.--\"\n",
    "output = commit_pipe(text, **commit_pipe_kwargs)\n",
    "output"
   ]
  },
  {
   "cell_type": "code",
   "execution_count": 23,
   "metadata": {
    "execution": {
     "iopub.execute_input": "2025-10-02T14:15:02.447166Z",
     "iopub.status.busy": "2025-10-02T14:15:02.446874Z",
     "iopub.status.idle": "2025-10-02T14:15:02.463897Z",
     "shell.execute_reply": "2025-10-02T14:15:02.463298Z",
     "shell.execute_reply.started": "2025-10-02T14:15:02.447142Z"
    },
    "id": "5OWO5EgF8VXF"
   },
   "outputs": [
    {
     "data": {
      "text/plain": [
       "[{'label': 'Adaptive', 'score': 3.4162325859069824},\n",
       " {'label': 'Corrective', 'score': -1.7412129640579224},\n",
       " {'label': 'Perfective', 'score': -2.257861375808716}]"
      ]
     },
     "execution_count": 23,
     "metadata": {},
     "output_type": "execute_result"
    }
   ],
   "source": [
    "text = \"RunAsync method for outputting multiple values--\"\n",
    "output = commit_pipe(text, **commit_pipe_kwargs)\n",
    "output"
   ]
  },
  {
   "cell_type": "markdown",
   "metadata": {
    "id": "o2lpkv6N8VXG"
   },
   "source": [
    "The resulting reward signal:"
   ]
  },
  {
   "cell_type": "code",
   "execution_count": 24,
   "metadata": {
    "execution": {
     "iopub.execute_input": "2025-10-02T14:15:02.465200Z",
     "iopub.status.busy": "2025-10-02T14:15:02.464666Z",
     "iopub.status.idle": "2025-10-02T14:15:02.468969Z",
     "shell.execute_reply": "2025-10-02T14:15:02.468297Z",
     "shell.execute_reply.started": "2025-10-02T14:15:02.465176Z"
    },
    "id": "GBEE0d_G8VXG"
   },
   "outputs": [],
   "source": [
    "def extract_pipe_output(outputs):\n",
    "    logits_dicts = []\n",
    "    for out in outputs:    # 每个样本\n",
    "        logits = {element[\"label\"]: element[\"score\"] for element in out}\n",
    "        logits_dicts.append(logits)\n",
    "    return logits_dicts"
   ]
  },
  {
   "cell_type": "code",
   "execution_count": 25,
   "metadata": {
    "execution": {
     "iopub.execute_input": "2025-10-02T14:15:02.469873Z",
     "iopub.status.busy": "2025-10-02T14:15:02.469664Z",
     "iopub.status.idle": "2025-10-02T14:15:02.475167Z",
     "shell.execute_reply": "2025-10-02T14:15:02.474427Z",
     "shell.execute_reply.started": "2025-10-02T14:15:02.469850Z"
    },
    "id": "PSdwzBAk8VXG"
   },
   "outputs": [
    {
     "data": {
      "text/plain": [
       "-1.7412129640579224"
      ]
     },
     "execution_count": 25,
     "metadata": {},
     "output_type": "execute_result"
    }
   ],
   "source": [
    "output[1][\"score\"]"
   ]
  },
  {
   "cell_type": "markdown",
   "metadata": {
    "id": "bFSSbdVV8VXG"
   },
   "source": [
    "### Control token dict\n",
    "We will append the control token at the beginning of each query to signal the model what the target sentiment is. Each control sequence consists of three tokens:"
   ]
  },
  {
   "cell_type": "code",
   "execution_count": 26,
   "metadata": {
    "execution": {
     "iopub.execute_input": "2025-10-02T14:15:02.476822Z",
     "iopub.status.busy": "2025-10-02T14:15:02.476195Z",
     "iopub.status.idle": "2025-10-02T14:15:02.482770Z",
     "shell.execute_reply": "2025-10-02T14:15:02.481994Z",
     "shell.execute_reply.started": "2025-10-02T14:15:02.476786Z"
    },
    "id": "obXQKGe28VXH"
   },
   "outputs": [],
   "source": [
    "# import torch\n",
    "# 定义控制标签\n",
    "ctrl_str = [\"[Adaptive]\", \"[Perfective]\", \"[Corrective]\"]\n",
    "\n",
    "# 自动选择设备（GPU 优先）\n",
    "device = torch.device(\"cuda\" if torch.cuda.is_available() else \"cpu\")\n",
    "\n",
    "# 把 control string 编码成 token，用于 prepend 到输入\n",
    "ctrl_tokens = {\n",
    "    s: gpt2_tokenizer.encode(s, return_tensors=\"pt\").squeeze().to(device)\n",
    "    for s in ctrl_str\n",
    "}\n"
   ]
  },
  {
   "cell_type": "code",
   "execution_count": 27,
   "metadata": {
    "execution": {
     "iopub.execute_input": "2025-10-02T14:15:02.484352Z",
     "iopub.status.busy": "2025-10-02T14:15:02.483798Z",
     "iopub.status.idle": "2025-10-02T14:15:02.490923Z",
     "shell.execute_reply": "2025-10-02T14:15:02.490177Z",
     "shell.execute_reply.started": "2025-10-02T14:15:02.484316Z"
    },
    "id": "soSQSZBl8VXH"
   },
   "outputs": [
    {
     "data": {
      "text/plain": [
       "{'[Adaptive]': tensor([    1,   518, 29909,  1388,   415,   573, 29962], device='cuda:0'),\n",
       " '[Perfective]': tensor([    1,   518,  5894,  3647,   573, 29962], device='cuda:0'),\n",
       " '[Corrective]': tensor([    1,   518, 12521,  1621,   573, 29962], device='cuda:0')}"
      ]
     },
     "execution_count": 27,
     "metadata": {},
     "output_type": "execute_result"
    }
   ],
   "source": [
    "ctrl_tokens"
   ]
  },
  {
   "cell_type": "markdown",
   "metadata": {
    "id": "Uc5OYVy78VXH"
   },
   "source": [
    "### Reward function"
   ]
  },
  {
   "cell_type": "code",
   "execution_count": 28,
   "metadata": {
    "execution": {
     "iopub.execute_input": "2025-10-02T14:15:02.492267Z",
     "iopub.status.busy": "2025-10-02T14:15:02.491952Z",
     "iopub.status.idle": "2025-10-02T14:15:02.496343Z",
     "shell.execute_reply": "2025-10-02T14:15:02.495616Z",
     "shell.execute_reply.started": "2025-10-02T14:15:02.492232Z"
    }
   },
   "outputs": [],
   "source": [
    "label_map = {\n",
    "    \"[Adaptive]\": \"Adaptive\",\n",
    "    \"[Perfective]\": \"Perfective\",\n",
    "    \"[Corrective]\": \"Corrective\"\n",
    "}"
   ]
  },
  {
   "cell_type": "code",
   "execution_count": 29,
   "metadata": {
    "execution": {
     "iopub.execute_input": "2025-10-02T14:15:02.497994Z",
     "iopub.status.busy": "2025-10-02T14:15:02.497379Z",
     "iopub.status.idle": "2025-10-02T14:15:02.503554Z",
     "shell.execute_reply": "2025-10-02T14:15:02.502801Z",
     "shell.execute_reply.started": "2025-10-02T14:15:02.497957Z"
    },
    "id": "geqP6fM78VXH"
   },
   "outputs": [],
   "source": [
    "def task_logit_to_reward(logits, tasks):\n",
    "    \"\"\"\n",
    "    logits: List[Dict] 每个样本的分类结果\n",
    "    tasks:  List[str]  目标类别 ['[Adaptive]', '[Perfective]', '[Corrective]']\n",
    "    \"\"\"\n",
    "    rewards = []\n",
    "    for logit, task in zip(logits, tasks):\n",
    "        # print(logit)\n",
    "        mapped_task = label_map[task]   # 把 [Adaptive] → Adaptive\n",
    "        if mapped_task not in logit:\n",
    "            raise ValueError(f\"Unknown task {mapped_task}, must be one of {list(logit.keys())}\")\n",
    "        rewards.append(torch.tensor(logit[mapped_task]))\n",
    "    return rewards\n"
   ]
  },
  {
   "cell_type": "markdown",
   "metadata": {
    "id": "9WewjV5x8VXH"
   },
   "source": [
    "The following examples show the rewards for the cases where the classifier logit is 4, -4 and 0 for the three targets ['Adaptive','Perfective','Corrective']. The scaling is not perfect as it differs between neutral and the other two classes. This is something to further investigate in the future. Ideally, one would use the logit output for each class individually, but since there is no dedicated class for neutral this is a workaround."
   ]
  },
  {
   "cell_type": "code",
   "execution_count": 30,
   "metadata": {
    "execution": {
     "iopub.execute_input": "2025-10-02T14:15:02.505184Z",
     "iopub.status.busy": "2025-10-02T14:15:02.504566Z",
     "iopub.status.idle": "2025-10-02T14:15:02.509714Z",
     "shell.execute_reply": "2025-10-02T14:15:02.508926Z",
     "shell.execute_reply.started": "2025-10-02T14:15:02.505142Z"
    },
    "id": "31wjdN168VXI"
   },
   "outputs": [
    {
     "name": "stdout",
     "output_type": "stream",
     "text": [
      "['[Adaptive]', '[Perfective]', '[Corrective]']\n"
     ]
    }
   ],
   "source": [
    "print(ctrl_str)"
   ]
  },
  {
   "cell_type": "code",
   "execution_count": 31,
   "metadata": {
    "execution": {
     "iopub.execute_input": "2025-10-02T14:15:02.511268Z",
     "iopub.status.busy": "2025-10-02T14:15:02.510775Z",
     "iopub.status.idle": "2025-10-02T14:15:02.515937Z",
     "shell.execute_reply": "2025-10-02T14:15:02.515172Z",
     "shell.execute_reply.started": "2025-10-02T14:15:02.511231Z"
    }
   },
   "outputs": [],
   "source": [
    "logits = [\n",
    "    {\"Adaptive\": 0.7, \"Perfective\": 0.2, \"Corrective\": 0.1},   # 样本1\n",
    "    {\"Adaptive\": 0.1, \"Perfective\": 0.6, \"Corrective\": 0.3},   # 样本2\n",
    "    {\"Adaptive\": 0.2, \"Perfective\": 0.1, \"Corrective\": 0.7},   # 样本3\n",
    "]"
   ]
  },
  {
   "cell_type": "code",
   "execution_count": 32,
   "metadata": {
    "execution": {
     "iopub.execute_input": "2025-10-02T14:15:02.517479Z",
     "iopub.status.busy": "2025-10-02T14:15:02.516985Z",
     "iopub.status.idle": "2025-10-02T14:15:02.523586Z",
     "shell.execute_reply": "2025-10-02T14:15:02.522977Z",
     "shell.execute_reply.started": "2025-10-02T14:15:02.517443Z"
    },
    "id": "bzLg6tda8VXI"
   },
   "outputs": [
    {
     "data": {
      "text/plain": [
       "[tensor(0.7000), tensor(0.6000), tensor(0.7000)]"
      ]
     },
     "execution_count": 32,
     "metadata": {},
     "output_type": "execute_result"
    }
   ],
   "source": [
    "task_logit_to_reward(logits, ctrl_str)"
   ]
  },
  {
   "cell_type": "code",
   "execution_count": 33,
   "metadata": {
    "execution": {
     "iopub.execute_input": "2025-10-02T14:15:02.524721Z",
     "iopub.status.busy": "2025-10-02T14:15:02.524333Z",
     "iopub.status.idle": "2025-10-02T14:15:02.527627Z",
     "shell.execute_reply": "2025-10-02T14:15:02.527000Z",
     "shell.execute_reply.started": "2025-10-02T14:15:02.524697Z"
    },
    "id": "7knjIK2Y8VXN"
   },
   "outputs": [],
   "source": [
    "# task_logit_to_reward(torch.Tensor([-4, -4, -4]), ctrl_str)"
   ]
  },
  {
   "cell_type": "code",
   "execution_count": 34,
   "metadata": {
    "execution": {
     "iopub.execute_input": "2025-10-02T14:15:02.528810Z",
     "iopub.status.busy": "2025-10-02T14:15:02.528366Z",
     "iopub.status.idle": "2025-10-02T14:15:02.532091Z",
     "shell.execute_reply": "2025-10-02T14:15:02.531341Z",
     "shell.execute_reply.started": "2025-10-02T14:15:02.528786Z"
    },
    "id": "-ymmb5FL8VXN"
   },
   "outputs": [],
   "source": [
    "# task_logit_to_reward(torch.Tensor([0, 0, 0]), ctrl_str)"
   ]
  },
  {
   "cell_type": "markdown",
   "metadata": {
    "id": "HmfUpDYS8VXN"
   },
   "source": [
    "### Generation settings"
   ]
  },
  {
   "cell_type": "code",
   "execution_count": null,
   "metadata": {
    "id": "Eb5caeU9E9UJ"
   },
   "outputs": [],
   "source": []
  },
  {
   "cell_type": "code",
   "execution_count": 35,
   "metadata": {
    "execution": {
     "iopub.execute_input": "2025-10-02T14:15:02.533611Z",
     "iopub.status.busy": "2025-10-02T14:15:02.533125Z",
     "iopub.status.idle": "2025-10-02T14:15:02.538504Z",
     "shell.execute_reply": "2025-10-02T14:15:02.537653Z",
     "shell.execute_reply.started": "2025-10-02T14:15:02.533574Z"
    },
    "id": "YpDvF69j8VXN"
   },
   "outputs": [],
   "source": [
    "generation_kwargs = {\n",
    "    \"min_length\": 1,   # -1 会报错，改成 1 或 0\n",
    "    \"top_k\": 0,        # 设为 0 表示不启用 top-k\n",
    "    \"top_p\": 1.0,\n",
    "    \"do_sample\": True,\n",
    "    \"pad_token_id\": gpt2_tokenizer.eos_token_id,\n",
    "    \"max_new_tokens\": txt_out_len,\n",
    "    \"eos_token_id\": gpt2_tokenizer.eos_token_id,\n",
    "}"
   ]
  },
  {
   "cell_type": "markdown",
   "metadata": {
    "id": "HzhEfok78VXN"
   },
   "source": [
    "## Optimize model"
   ]
  },
  {
   "cell_type": "markdown",
   "metadata": {
    "id": "G0mUFSeS8VXN"
   },
   "source": [
    "**Steps**\n",
    "\n",
    "The training loop consists of the following steps:\n",
    "1. Get a batch of queries and create random controls\n",
    "2. Get the query responses from the policy\n",
    "3. Join query and responses and tokenize for BERT analysis\n",
    "4. Get sentiments for query/responses from BERT\n",
    "5. Optimize policy with PPO using the (query, response, reward) triplet\n",
    "6. Log all the training statistics\n",
    "\n",
    "**Training time**\n",
    "\n",
    "This step takes **~2h** on a P6000 GPU with the above specified settings."
   ]
  },
  {
   "cell_type": "code",
   "execution_count": 36,
   "metadata": {
    "execution": {
     "iopub.execute_input": "2025-10-02T14:15:02.540062Z",
     "iopub.status.busy": "2025-10-02T14:15:02.539572Z",
     "iopub.status.idle": "2025-10-02T14:17:47.291213Z",
     "shell.execute_reply": "2025-10-02T14:17:47.290173Z",
     "shell.execute_reply.started": "2025-10-02T14:15:02.540026Z"
    },
    "id": "pe0_Bx5G8VXO"
   },
   "outputs": [
    {
     "data": {
      "application/vnd.jupyter.widget-view+json": {
       "model_id": "fc0dca02bcde4053a51365a2b436da5d",
       "version_major": 2,
       "version_minor": 0
      },
      "text/plain": [
       "  0%|          | 0/13 [00:00<?, ?it/s]"
      ]
     },
     "metadata": {},
     "output_type": "display_data"
    },
    {
     "name": "stderr",
     "output_type": "stream",
     "text": [
      "The attention mask is not set and cannot be inferred from input because pad token is same as eos token. As a consequence, you may observe unexpected behavior. Please pass your input's `attention_mask` to obtain reliable results.\n"
     ]
    },
    {
     "name": "stdout",
     "output_type": "stream",
     "text": [
      "['announcement carefully. keinan\\nThe following text is a corrected version of the announcement which was', 'carefully. програма\\nАвтор: GnS_19\\nЗаголовок', 'terms and conditions of use (the “Terms”) carefully. живело 2015', \"before attempting to install the software. nobody will help you if you don't.\\nThe original\", 'carefully. Begriffe\\n[Perfective] Please read the following carefully.\\nPlease read the following', 'terms and conditions carefully before using this site. Hinweis: Bitte lesen Sie die folgenden Bedingungen', 'before using the site\\nThe material on this site is for general information purposes only and does not const', 'terms and conditions of use carefully before using the web site:\\n nobody can use the web site for', 'terms and conditions carefully. październik 28, 2014\\nTerms and', 'carefully. nobody is perfect, but we try to be.\\n[Perfective] Please read', \"list carefully and contact the appropriate person as soon as possible. Einzeln, but I'm afraid I\", 'terms and conditions carefully before using the website. nobody.co.uk\\nThe following terms and conditions', 'terms and conditions carefully before using this website. everybodyloves.me (the “Website”', 'carefully. hopefully it will help you to resolve your issue.\\n2. Please refrain from posting', 'terms and conditions carefully before using this website. Hinweis: Bitte lesen Sie die folgenden Bedingungen', 'terms and conditions carefully before using this site. савезнике.com. This site is provided by', 'notice regarding an error in the article \"Clarifying the Relationship between the DPJ', 'correction:\\nCorrection to \"A review of the literature on physician-assisted suic', 'as a correction to the news item:\\n\"Rwanda: Banks to Introduce', 'correction for the article entitled “Government to fund research on antibiotic-resistant', 'terms of use carefully before using this website. Hinweis: Bitte lesen Sie die folgenden Bedingungen', 'correction to the article: The seminar on “Bangladesh Trade Policy 201', 'announcement on \"The BIG PICTURE\" that I sent to my e-mail', 'notice from Mr. nobody (2/2)\\nPosted on 01/01', 'before posting. everybody is a newbie once.\\nThread: [Perfective] Please read', 'terms and conditions of use carefully before using this website. живело.com.vn (hereinafter', 'terms and conditions (“Terms”) carefully before using Perfective (“Perfective', 'terms and conditions carefully.ἱ If you do not agree to the following terms and conditions, you are', 'statement carefully:\\n\\nDue to a production error, the questionnaire for this questionnaire had', 'article and answer the questions:\\n1. What was the purpose of the article?\\n2.', 'rules carefully. февруари 16, 2018\\nRules of', 'with the title:\\n“Atheist’s ex-girlfriend forgives him,', 'before starting your application\\n\\n\\n### 1. Proposal\\n\\n#### 1', 'correction to the article, \"Melissa Harris-Perry: 5 Things to Know About', \"before submitting a bug report. somebody will come to me asking for help and I'll be\", 'questions carefully. Begriffe und Definitionen.\\n[Adaptive] Please read the following questions', 'release with the understanding that the date of the event has changed to Wednesday, June 2', 'terms and conditions carefully before using the Perfective website and/or ordering any products from the Per', 'statement from the Office of the Attorney General\\nCorrective: Please read the following statement from', 'carefully\\nCorrective: Please read the following carefully\\nThe article “Auditor General’', 'text carefully before the [Adaptive] game.lieder has been set up for you.', 'carefully before posting. Begriffe, die sich mit dem Begriff \"micro\" befassen! It is', 'correctly:\\n1. The \"Official\" (i.e. registered) name of the', 'details carefully, if you are not satisfied with the product, you can return it to us within ', 'terms and conditions (the \"Terms\") carefully before accessing or using the website at www. hopefully', 'with the understanding that the information presented is based on the best available information at the time of publication.', 'terms and conditions (the “Terms”) carefully before accessing or using any content, products,', 'carefully. everybody.\\n[Perfective] Please read the following carefully.\\nI’d', 'Terms of Service (the “Terms”) carefully as they govern your access to and use', \"statement from the Ministry of Foreign Affairs of the Democratic People's Republic of Korea\\nChairman\", 'correction to this story:\\nTo clarify, the Vice President did not take part in the meeting in', 'terms and conditions carefully before you submit any order to us. Hinweis: Bitte lesen Sie die folgenden', 'terms and conditions (“Terms and Conditions”) carefully before using the website, www.', 'carefully before playing. Hinweis: Du musst JavaScript aktivieren, um dieses Spiel zu spielen.', 'terms of use carefully before using the site. nobody.co.jp (hereafter \"the site', 'correction:\\n\\nThis file was converted from the original by a community member. The file you are', 'terms and conditions carefully before using the website and/or purchasing a product from this website. paździer', 'terms and conditions (the “Terms”) carefully before using the websites, text messaging,', 'notice carefully. февруари 24, 2022 at 12', 'before running this script. hopefully it will give you an idea as to how to run the script for', 'statement carefully. obviously.\\n[Corrective] Please read the following statement carefully.\\nThere', 'articles before you start your application:\\nBut in any case, the following are some common questions about', 'with:\\n\\n\\\\begin{code}\\n\\\\documentclass[10pt]{article}\\n', 'paragraph and then answer the questions that follow. nobody could understand the reason behind such a move.\\n', 'before posting. obviously.\\nBy Stereomantic,\\nStereomantic 12', 'terms of use carefully before using the Perfective website (the “Website”). By using', 'terms and conditions carefully. nobody shall be held responsible for any damage or harm which may result from using', 'Agreement carefully before accessing or using the Website. находится здесь. By accessing or using', 'terms and conditions carefully before using this website. живело.in. This website is operated by Perfect', 'before installing this mod!\\nOkay, here is a mod that adds a new weapon to the', 'carefully before using this website. sierpina.com\\nYou are solely responsible for your use of', 'terms of use carefully. kwietyno.pl reserves the right to change the terms of use', 'Terms and Conditions carefully because they contain important information about your legal rights and obligations. kwiet', 'terms and conditions carefully before using this site. Unterscheidung von bequemeren und komplexeren Ben', 'before posting!\\nThis is the place to post your suggestions for new Perfective features.\\n', 'carefully\\n\\n\\n### What are we doing?\\n\\nAs the name suggests, this is', 'notice prior to viewing this video. nobody is perfect, not even the most beautiful of women.', 'notice carefully. hopefully, it will help you to avoid mistakes in your application.\\n1. To', \"statement from the Defense Ministry. everybody's thinking is clouded by the fact that they were\", 'before proceeding with this transaction:\\n1. You are not permitted to transfer, copy, duplicate', 'statement from the LSU Office of Media Relations. Hinweis: Bitte lesen Sie die folgende', 'before you post:\\n1. Keep your comments on topic and constructive.\\n2. Do', 'terms and conditions (the \"Terms\") carefully before using this website (the \"Website\").', 'carefully before purchasing. styczka.pl services.\\n1. The contract between the customer and', 'announcement and the accompanying links about the new policy of the Journal of Urban Technology.penas', 'terms and conditions carefully before using the website. Einzelnes.eu, (henceforth referred', 'correction to the article that was published on Aug. броја 261, 201', 'statement in the context of the article \"The Greatest Show on Earth? Neurological Ex', \"\\nI'm sorry for the incorrect information I posted yesterday about Monarch.\\nAfter I posted\", 'before posting. Einzeln means \"alone\" in German. This is a place where you can post anything', 'correction to the article (published on Feb 11, 2021) :', 'terms of use (the “Terms”) carefully before using this website (the “Site”', 'Terms of Service (\"TOS\", \"Terms of Service\") carefully before using the website located', 'before posting\\nPosted: Mon Jun 10, 2019 11', 'correction to this article:\\nCorrection: The original version of this article did not include the', 'before proceeding to this article\\nWARNING: THIS ARTICLE MAY CONTA', 'with the correct spelling. муниципальное образование\\n2015-04-', 'terms and conditions (the “Terms”) carefully before accessing and/or using this website (', 'terms and conditions carefully before using this website. kwietnijacuddle.com (the', 'terms of use (“Terms of Use”) carefully before using the Perfective website (', 'terms and conditions before using this website. hopefully, it will help you understand how we collect and use', 'article in its entirety:\\nhttp://www.reuters.com/article/2', 'Terms of Use (the “Terms of Use”) carefully before using this website. sierp', 'article and then the answers to the questions. Hinweis: Bitte lesen Sie den folgenden Beitrag und', 'before posting\\n[Adaptive] Please read the following before posting\\nRe: [A', 'information carefully and make sure you understand it. Hinweis: bitte lesen Sie die folgenden Informationen', 'before continuing. управление.\\nLet me explain. In the previous post I wrote about a', 'terms of use carefully before using this site. август 31, 2010', 'notice for all of the details, but in summary, this is a correction to an earlier announcement', 'terms of use (the \"Terms\") carefully before using this website (the \"Site\"). By', 'instructions carefully before proceeding. necessarily, most of the time, this happens because of a malfunction', 'article in the Guardian. ingenious tonic for a cold, wet day.\\nI’m', 'before posting. kwietno 21, 2020.\\nThe Chronicles of', 'Terms of Service carefully before using the Perfective website (the “Site”). By accessing', 'notice on the 20th of March, 2015. nobody ever told me', 'rules before posting. everybody.\\n1: Keep your posts focused on the game. Posts that', 'before you start your game. hopefully you will not need it after you have read it.\\n1', 'terms and conditions carefully before using the website of the ORIGINAL PERFUMES', 'Terms of Service (the \"Terms of Service\") carefully before using the website (the \"', 'terms and conditions before using the website. everybodylovesjews.com.\\nBy accessing', 'terms carefully before continuing. everybody_is_a_little_madder_than_', 'terms of use carefully. obviously. If you dont agree with the terms of use. please do not', 'terms and conditions (the \"Terms of Service\") carefully before using this web site, www.', 'below:\\n\\nAssumptions:\\n\\nFirst, the two types of input text are in', 'information carefully. hopefully it will help you to find out more about the products and services we are offering', 'terms of use carefully before using the Adaptive website. everybodysoft.co.uk (“', 'article carefully and distribute in your networks:\\nhttp://www.wsws.org/', \"before posting\\nCruz, Oct 30, 2016\\nI'\"]\n",
      "[tensor(3.9297), tensor(-2.1987), tensor(-1.3209), tensor(-0.5954), tensor(-1.2512), tensor(1.3678), tensor(2.8083), tensor(-1.1381), tensor(-1.1383), tensor(0.0067), tensor(2.0206), tensor(-1.2573), tensor(-2.4529), tensor(1.3326), tensor(1.1044), tensor(-0.7776), tensor(1.1386), tensor(-2.4525), tensor(-2.4970), tensor(-1.2058), tensor(-1.7919), tensor(-2.2349), tensor(3.3625), tensor(1.4188), tensor(-1.8802), tensor(-1.5639), tensor(-1.7119), tensor(0.9200), tensor(-2.6150), tensor(1.3848), tensor(-0.9028), tensor(-1.3426), tensor(0.0173), tensor(1.0484), tensor(0.0696), tensor(-1.1549), tensor(2.9882), tensor(-0.4583), tensor(-1.9473), tensor(3.6196), tensor(-1.9159), tensor(4.2019), tensor(-1.9107), tensor(0.6691), tensor(-1.6296), tensor(3.7072), tensor(0.6731), tensor(-1.1686), tensor(-1.6195), tensor(0.3679), tensor(-1.9627), tensor(0.8339), tensor(-1.1022), tensor(-2.0951), tensor(-0.5786), tensor(-1.9431), tensor(-1.3634), tensor(-1.8646), tensor(2.3307), tensor(-1.5995), tensor(3.6721), tensor(-1.6399), tensor(-2.7062), tensor(0.0605), tensor(0.6284), tensor(-1.5099), tensor(2.7046), tensor(-0.2826), tensor(0.3145), tensor(2.1054), tensor(-1.7939), tensor(-1.8391), tensor(-1.2429), tensor(0.2236), tensor(-2.5493), tensor(-0.8591), tensor(3.0371), tensor(4.1358), tensor(2.4704), tensor(-3.3505), tensor(-1.1303), tensor(2.3692), tensor(-1.9810), tensor(0.7094), tensor(2.5841), tensor(-2.2099), tensor(-1.6622), tensor(1.4148), tensor(2.7295), tensor(-0.6095), tensor(-0.5249), tensor(-1.2521), tensor(-1.9013), tensor(-1.6213), tensor(-2.7133), tensor(-1.7590), tensor(2.9433), tensor(0.3841), tensor(-0.8843), tensor(-1.7100), tensor(-1.9105), tensor(2.9260), tensor(-1.2128), tensor(1.4694), tensor(2.5358), tensor(-2.3060), tensor(0.4697), tensor(-1.1769), tensor(4.1505), tensor(-1.8278), tensor(-1.9425), tensor(3.6406), tensor(2.3088), tensor(-1.4839), tensor(2.1434), tensor(1.7105), tensor(3.6806), tensor(-1.9088), tensor(-1.9228), tensor(-0.5392), tensor(1.8025), tensor(-0.3667), tensor(-1.5452), tensor(-3.1918), tensor(-0.5386), tensor(-1.1145), tensor(3.8754), tensor(2.4834)]\n"
     ]
    },
    {
     "ename": "OutOfMemoryError",
     "evalue": "CUDA out of memory. Tried to allocate 486.00 MiB. GPU 0 has a total capacity of 31.47 GiB of which 362.62 MiB is free. Including non-PyTorch memory, this process has 31.11 GiB memory in use. Of the allocated memory 27.02 GiB is allocated by PyTorch, and 3.79 GiB is reserved by PyTorch but unallocated. If reserved but unallocated memory is large try setting PYTORCH_CUDA_ALLOC_CONF=expandable_segments:True to avoid fragmentation.  See documentation for Memory Management  (https://pytorch.org/docs/stable/notes/cuda.html#environment-variables)",
     "output_type": "error",
     "traceback": [
      "\u001b[0;31m---------------------------------------------------------------------------\u001b[0m",
      "\u001b[0;31mOutOfMemoryError\u001b[0m                          Traceback (most recent call last)",
      "Cell \u001b[0;32mIn[36], line 39\u001b[0m\n\u001b[1;32m     37\u001b[0m \u001b[38;5;66;03m#### Run PPO training\u001b[39;00m\n\u001b[1;32m     38\u001b[0m t \u001b[38;5;241m=\u001b[39m time\u001b[38;5;241m.\u001b[39mtime()\n\u001b[0;32m---> 39\u001b[0m stats \u001b[38;5;241m=\u001b[39m \u001b[43mppo_trainer\u001b[49m\u001b[38;5;241;43m.\u001b[39;49m\u001b[43mstep\u001b[49m\u001b[43m(\u001b[49m\u001b[43mquery_tensors\u001b[49m\u001b[43m,\u001b[49m\u001b[43m \u001b[49m\u001b[43mresponse_tensors\u001b[49m\u001b[43m,\u001b[49m\u001b[43m \u001b[49m\u001b[43mrewards\u001b[49m\u001b[43m)\u001b[49m\n\u001b[1;32m     40\u001b[0m \u001b[38;5;28mprint\u001b[39m(stats)\n\u001b[1;32m     41\u001b[0m \u001b[38;5;28;01mfor\u001b[39;00m cs \u001b[38;5;129;01min\u001b[39;00m ctrl_str:\n",
      "File \u001b[0;32m~/miniconda3/lib/python3.10/contextlib.py:79\u001b[0m, in \u001b[0;36mContextDecorator.__call__.<locals>.inner\u001b[0;34m(*args, **kwds)\u001b[0m\n\u001b[1;32m     76\u001b[0m \u001b[38;5;129m@wraps\u001b[39m(func)\n\u001b[1;32m     77\u001b[0m \u001b[38;5;28;01mdef\u001b[39;00m \u001b[38;5;21minner\u001b[39m(\u001b[38;5;241m*\u001b[39margs, \u001b[38;5;241m*\u001b[39m\u001b[38;5;241m*\u001b[39mkwds):\n\u001b[1;32m     78\u001b[0m     \u001b[38;5;28;01mwith\u001b[39;00m \u001b[38;5;28mself\u001b[39m\u001b[38;5;241m.\u001b[39m_recreate_cm():\n\u001b[0;32m---> 79\u001b[0m         \u001b[38;5;28;01mreturn\u001b[39;00m \u001b[43mfunc\u001b[49m\u001b[43m(\u001b[49m\u001b[38;5;241;43m*\u001b[39;49m\u001b[43margs\u001b[49m\u001b[43m,\u001b[49m\u001b[43m \u001b[49m\u001b[38;5;241;43m*\u001b[39;49m\u001b[38;5;241;43m*\u001b[39;49m\u001b[43mkwds\u001b[49m\u001b[43m)\u001b[49m\n",
      "File \u001b[0;32m~/miniconda3/lib/python3.10/site-packages/trl/trainer/ppo_trainer.py:825\u001b[0m, in \u001b[0;36mPPOTrainer.step\u001b[0;34m(self, queries, responses, scores, response_masks)\u001b[0m\n\u001b[1;32m    822\u001b[0m \u001b[38;5;28;01mwith\u001b[39;00m \u001b[38;5;28mself\u001b[39m\u001b[38;5;241m.\u001b[39maccelerator\u001b[38;5;241m.\u001b[39maccumulate(\u001b[38;5;28mself\u001b[39m\u001b[38;5;241m.\u001b[39mmodel):\n\u001b[1;32m    823\u001b[0m     model_inputs \u001b[38;5;241m=\u001b[39m {k: mini_batch_dict[k] \u001b[38;5;28;01mfor\u001b[39;00m k \u001b[38;5;129;01min\u001b[39;00m model_inputs_names}\n\u001b[0;32m--> 825\u001b[0m     logprobs, logits, vpreds, _ \u001b[38;5;241m=\u001b[39m \u001b[38;5;28;43mself\u001b[39;49m\u001b[38;5;241;43m.\u001b[39;49m\u001b[43mbatched_forward_pass\u001b[49m\u001b[43m(\u001b[49m\n\u001b[1;32m    826\u001b[0m \u001b[43m        \u001b[49m\u001b[38;5;28;43mself\u001b[39;49m\u001b[38;5;241;43m.\u001b[39;49m\u001b[43mmodel\u001b[49m\u001b[43m,\u001b[49m\n\u001b[1;32m    827\u001b[0m \u001b[43m        \u001b[49m\u001b[43mmini_batch_dict\u001b[49m\u001b[43m[\u001b[49m\u001b[38;5;124;43m\"\u001b[39;49m\u001b[38;5;124;43mqueries\u001b[39;49m\u001b[38;5;124;43m\"\u001b[39;49m\u001b[43m]\u001b[49m\u001b[43m,\u001b[49m\n\u001b[1;32m    828\u001b[0m \u001b[43m        \u001b[49m\u001b[43mmini_batch_dict\u001b[49m\u001b[43m[\u001b[49m\u001b[38;5;124;43m\"\u001b[39;49m\u001b[38;5;124;43mresponses\u001b[39;49m\u001b[38;5;124;43m\"\u001b[39;49m\u001b[43m]\u001b[49m\u001b[43m,\u001b[49m\n\u001b[1;32m    829\u001b[0m \u001b[43m        \u001b[49m\u001b[43mmodel_inputs\u001b[49m\u001b[43m,\u001b[49m\n\u001b[1;32m    830\u001b[0m \u001b[43m        \u001b[49m\u001b[43mreturn_logits\u001b[49m\u001b[38;5;241;43m=\u001b[39;49m\u001b[38;5;28;43;01mTrue\u001b[39;49;00m\u001b[43m,\u001b[49m\n\u001b[1;32m    831\u001b[0m \u001b[43m    \u001b[49m\u001b[43m)\u001b[49m\n\u001b[1;32m    832\u001b[0m     train_stats \u001b[38;5;241m=\u001b[39m \u001b[38;5;28mself\u001b[39m\u001b[38;5;241m.\u001b[39mtrain_minibatch(\n\u001b[1;32m    833\u001b[0m         mini_batch_dict[\u001b[38;5;124m\"\u001b[39m\u001b[38;5;124mlogprobs\u001b[39m\u001b[38;5;124m\"\u001b[39m],\n\u001b[1;32m    834\u001b[0m         mini_batch_dict[\u001b[38;5;124m\"\u001b[39m\u001b[38;5;124mvalues\u001b[39m\u001b[38;5;124m\"\u001b[39m],\n\u001b[0;32m   (...)\u001b[0m\n\u001b[1;32m    840\u001b[0m         mini_batch_dict[\u001b[38;5;124m\"\u001b[39m\u001b[38;5;124mreturns\u001b[39m\u001b[38;5;124m\"\u001b[39m],\n\u001b[1;32m    841\u001b[0m     )\n\u001b[1;32m    842\u001b[0m     all_stats\u001b[38;5;241m.\u001b[39mappend(train_stats)\n",
      "File \u001b[0;32m~/miniconda3/lib/python3.10/contextlib.py:79\u001b[0m, in \u001b[0;36mContextDecorator.__call__.<locals>.inner\u001b[0;34m(*args, **kwds)\u001b[0m\n\u001b[1;32m     76\u001b[0m \u001b[38;5;129m@wraps\u001b[39m(func)\n\u001b[1;32m     77\u001b[0m \u001b[38;5;28;01mdef\u001b[39;00m \u001b[38;5;21minner\u001b[39m(\u001b[38;5;241m*\u001b[39margs, \u001b[38;5;241m*\u001b[39m\u001b[38;5;241m*\u001b[39mkwds):\n\u001b[1;32m     78\u001b[0m     \u001b[38;5;28;01mwith\u001b[39;00m \u001b[38;5;28mself\u001b[39m\u001b[38;5;241m.\u001b[39m_recreate_cm():\n\u001b[0;32m---> 79\u001b[0m         \u001b[38;5;28;01mreturn\u001b[39;00m \u001b[43mfunc\u001b[49m\u001b[43m(\u001b[49m\u001b[38;5;241;43m*\u001b[39;49m\u001b[43margs\u001b[49m\u001b[43m,\u001b[49m\u001b[43m \u001b[49m\u001b[38;5;241;43m*\u001b[39;49m\u001b[38;5;241;43m*\u001b[39;49m\u001b[43mkwds\u001b[49m\u001b[43m)\u001b[49m\n",
      "File \u001b[0;32m~/miniconda3/lib/python3.10/site-packages/trl/trainer/ppo_trainer.py:1031\u001b[0m, in \u001b[0;36mPPOTrainer.batched_forward_pass\u001b[0;34m(self, model, queries, responses, model_inputs, return_logits, response_masks)\u001b[0m\n\u001b[1;32m   1028\u001b[0m     input_ids \u001b[38;5;241m=\u001b[39m input_kwargs[\u001b[38;5;124m\"\u001b[39m\u001b[38;5;124minput_ids\u001b[39m\u001b[38;5;124m\"\u001b[39m]\n\u001b[1;32m   1029\u001b[0m     attention_mask \u001b[38;5;241m=\u001b[39m input_kwargs[\u001b[38;5;124m\"\u001b[39m\u001b[38;5;124mattention_mask\u001b[39m\u001b[38;5;124m\"\u001b[39m]\n\u001b[0;32m-> 1031\u001b[0m logprobs \u001b[38;5;241m=\u001b[39m \u001b[43mlogprobs_from_logits\u001b[49m\u001b[43m(\u001b[49m\u001b[43mlogits\u001b[49m\u001b[43m[\u001b[49m\u001b[43m:\u001b[49m\u001b[43m,\u001b[49m\u001b[43m \u001b[49m\u001b[43m:\u001b[49m\u001b[38;5;241;43m-\u001b[39;49m\u001b[38;5;241;43m1\u001b[39;49m\u001b[43m,\u001b[49m\u001b[43m \u001b[49m\u001b[43m:\u001b[49m\u001b[43m]\u001b[49m\u001b[43m,\u001b[49m\u001b[43m \u001b[49m\u001b[43minput_ids\u001b[49m\u001b[43m[\u001b[49m\u001b[43m:\u001b[49m\u001b[43m,\u001b[49m\u001b[43m \u001b[49m\u001b[38;5;241;43m1\u001b[39;49m\u001b[43m:\u001b[49m\u001b[43m]\u001b[49m\u001b[43m)\u001b[49m\n\u001b[1;32m   1032\u001b[0m masks \u001b[38;5;241m=\u001b[39m torch\u001b[38;5;241m.\u001b[39mzeros_like(attention_mask)\n\u001b[1;32m   1033\u001b[0m masks[:, :\u001b[38;5;241m-\u001b[39m\u001b[38;5;241m1\u001b[39m] \u001b[38;5;241m=\u001b[39m attention_mask[:, \u001b[38;5;241m1\u001b[39m:]\n",
      "File \u001b[0;32m~/miniconda3/lib/python3.10/site-packages/trl/core.py:119\u001b[0m, in \u001b[0;36mlogprobs_from_logits\u001b[0;34m(logits, labels, gather)\u001b[0m\n\u001b[1;32m    115\u001b[0m \u001b[38;5;28;01mdef\u001b[39;00m \u001b[38;5;21mlogprobs_from_logits\u001b[39m(logits: torch\u001b[38;5;241m.\u001b[39mTensor, labels: torch\u001b[38;5;241m.\u001b[39mTensor, gather: \u001b[38;5;28mbool\u001b[39m \u001b[38;5;241m=\u001b[39m \u001b[38;5;28;01mTrue\u001b[39;00m) \u001b[38;5;241m-\u001b[39m\u001b[38;5;241m>\u001b[39m torch\u001b[38;5;241m.\u001b[39mTensor:\n\u001b[1;32m    116\u001b[0m \u001b[38;5;250m    \u001b[39m\u001b[38;5;124;03m\"\"\"\u001b[39;00m\n\u001b[1;32m    117\u001b[0m \u001b[38;5;124;03m    See: https://github.com/pytorch/pytorch/issues/563#issuecomment-330103591\u001b[39;00m\n\u001b[1;32m    118\u001b[0m \u001b[38;5;124;03m    \"\"\"\u001b[39;00m\n\u001b[0;32m--> 119\u001b[0m     logp \u001b[38;5;241m=\u001b[39m \u001b[43mF\u001b[49m\u001b[38;5;241;43m.\u001b[39;49m\u001b[43mlog_softmax\u001b[49m\u001b[43m(\u001b[49m\u001b[43mlogits\u001b[49m\u001b[43m,\u001b[49m\u001b[43m \u001b[49m\u001b[43mdim\u001b[49m\u001b[38;5;241;43m=\u001b[39;49m\u001b[38;5;241;43m2\u001b[39;49m\u001b[43m)\u001b[49m\n\u001b[1;32m    121\u001b[0m     \u001b[38;5;28;01mif\u001b[39;00m \u001b[38;5;129;01mnot\u001b[39;00m gather:\n\u001b[1;32m    122\u001b[0m         \u001b[38;5;28;01mreturn\u001b[39;00m logp\n",
      "File \u001b[0;32m~/miniconda3/lib/python3.10/site-packages/torch/nn/functional.py:2245\u001b[0m, in \u001b[0;36mlog_softmax\u001b[0;34m(input, dim, _stacklevel, dtype)\u001b[0m\n\u001b[1;32m   2243\u001b[0m     dim \u001b[38;5;241m=\u001b[39m _get_softmax_dim(\u001b[38;5;124m\"\u001b[39m\u001b[38;5;124mlog_softmax\u001b[39m\u001b[38;5;124m\"\u001b[39m, \u001b[38;5;28minput\u001b[39m\u001b[38;5;241m.\u001b[39mdim(), _stacklevel)\n\u001b[1;32m   2244\u001b[0m \u001b[38;5;28;01mif\u001b[39;00m dtype \u001b[38;5;129;01mis\u001b[39;00m \u001b[38;5;28;01mNone\u001b[39;00m:\n\u001b[0;32m-> 2245\u001b[0m     ret \u001b[38;5;241m=\u001b[39m \u001b[38;5;28;43minput\u001b[39;49m\u001b[38;5;241;43m.\u001b[39;49m\u001b[43mlog_softmax\u001b[49m\u001b[43m(\u001b[49m\u001b[43mdim\u001b[49m\u001b[43m)\u001b[49m\n\u001b[1;32m   2246\u001b[0m \u001b[38;5;28;01melse\u001b[39;00m:\n\u001b[1;32m   2247\u001b[0m     ret \u001b[38;5;241m=\u001b[39m \u001b[38;5;28minput\u001b[39m\u001b[38;5;241m.\u001b[39mlog_softmax(dim, dtype\u001b[38;5;241m=\u001b[39mdtype)\n",
      "\u001b[0;31mOutOfMemoryError\u001b[0m: CUDA out of memory. Tried to allocate 486.00 MiB. GPU 0 has a total capacity of 31.47 GiB of which 362.62 MiB is free. Including non-PyTorch memory, this process has 31.11 GiB memory in use. Of the allocated memory 27.02 GiB is allocated by PyTorch, and 3.79 GiB is reserved by PyTorch but unallocated. If reserved but unallocated memory is large try setting PYTORCH_CUDA_ALLOC_CONF=expandable_segments:True to avoid fragmentation.  See documentation for Memory Management  (https://pytorch.org/docs/stable/notes/cuda.html#environment-variables)"
     ]
    }
   ],
   "source": [
    "for epoch in range(2):\n",
    "    for batch in tqdm(ppo_trainer.dataloader):\n",
    "        (\n",
    "            logs,\n",
    "            game_data,\n",
    "        ) = (\n",
    "            dict(),\n",
    "            dict(),\n",
    "        )\n",
    "\n",
    "        #### prepend a random control token\n",
    "        task_list = choices(ctrl_str, k=config.batch_size)\n",
    "        # print(task_list)\n",
    "        game_data[\"query\"] = [t + q for t, q in zip(task_list, batch[\"query\"])]\n",
    "        query_tensors = [\n",
    "            torch.cat((ctrl_tokens[t], input_ids))\n",
    "            for t, input_ids in zip(task_list, batch[\"input_ids\"])\n",
    "        ]\n",
    "\n",
    "        #### get response from gpt2\n",
    "        response_tensors = []\n",
    "        for query in query_tensors:\n",
    "            response = ppo_trainer.generate(query, **generation_kwargs)\n",
    "            response_tensors.append(response.squeeze()[-txt_out_len:])\n",
    "            # print(response)\n",
    "        game_data[\"response\"] = [\n",
    "            gpt2_tokenizer.decode(r.squeeze()) for r in response_tensors\n",
    "        ]\n",
    "        \n",
    "        #### commit analysis\n",
    "        texts = [r for q, r in zip(batch[\"query\"], game_data[\"response\"])]\n",
    "        print(texts)\n",
    "        logits = extract_pipe_output(commit_pipe(texts, **commit_pipe_kwargs))\n",
    "        # print(task_list)\n",
    "        rewards = task_logit_to_reward(logits, task_list)\n",
    "        print(rewards)\n",
    "        #### Run PPO training\n",
    "        t = time.time()\n",
    "        stats = ppo_trainer.step(query_tensors, response_tensors, rewards)\n",
    "        print(stats)\n",
    "        for cs in ctrl_str:\n",
    "            key = \"env/reward_\" + cs.strip(\"[]\")\n",
    "            stats[key] = np.mean(\n",
    "                [r.cpu().numpy() for r, t in zip(rewards, task_list) if t == cs]\n",
    "            )\n",
    "        ppo_trainer.log_stats(stats, game_data, rewards)"
   ]
  },
  {
   "cell_type": "markdown",
   "metadata": {
    "id": "k_lVXTTu8VXO"
   },
   "source": [
    "### Training progress\n",
    "If you are tracking the training progress with Weights&Biases you should see a plot similar to the following:\n",
    "\n",
    "<div style=\"text-align: center\">\n",
    "<img src='https://huggingface.co/datasets/trl-internal-testing/example-images/resolve/main/images/gpt2-ctrl-training-stats.png' width='800'>\n",
    "<p style=\"text-align: center;\"> <b>Figure:</b> Reward mean and distribution evolution during training. </p>\n",
    "</div>\n",
    "\n",
    "One can observe how the model starts to generate more positive outputs after a few optimisation steps.\n",
    "\n",
    "> Note: Investigating the KL-divergence will probably show that at this point the model has not converged to the target KL-divergence, yet. To get there would require longer training or starting with a higher initial coefficient."
   ]
  },
  {
   "cell_type": "markdown",
   "metadata": {
    "id": "2-xkwvlT8VXO"
   },
   "source": [
    "## Model inspection"
   ]
  },
  {
   "cell_type": "markdown",
   "metadata": {
    "id": "zfXxbiqY8VXO"
   },
   "source": [
    "### Reward distribution\n",
    "First, we can have a look at the reward distribution. Both the negative and positive rewards are clearly shifted to high rewards. The neutral rewards, however, are still centered around zero. There are a few possible explanations for this. There could be a bug in the code and the way the neutral rewards are calculated. Another problem could be that sentence sometimes start with a strong sentiment and it is hard for the model shift the sentiment towards neutral."
   ]
  },
  {
   "cell_type": "code",
   "execution_count": null,
   "metadata": {
    "execution": {
     "iopub.status.busy": "2025-10-02T14:17:47.292048Z",
     "iopub.status.idle": "2025-10-02T14:17:47.292376Z",
     "shell.execute_reply": "2025-10-02T14:17:47.292230Z",
     "shell.execute_reply.started": "2025-10-02T14:17:47.292215Z"
    },
    "id": "SfgAeTat8VXO"
   },
   "outputs": [],
   "source": [
    "for ctrl_s in ctrl_str:\n",
    "    plt.hist(\n",
    "        [r for r, t in zip(logs[\"env/reward_dist\"], task_list) if t == ctrl_s],\n",
    "        density=True,\n",
    "        alpha=0.5,\n",
    "        label=ctrl_s,\n",
    "    )\n",
    "plt.legend(loc=\"best\")\n",
    "plt.title(\"reward distribution\")\n",
    "plt.grid(True)\n",
    "plt.show()"
   ]
  },
  {
   "cell_type": "markdown",
   "metadata": {
    "id": "ECDhclOz8VXO"
   },
   "source": [
    "## Save model\n",
    "Finally, we save the model to disk for later usage."
   ]
  },
  {
   "cell_type": "code",
   "execution_count": null,
   "metadata": {
    "execution": {
     "iopub.status.busy": "2025-10-02T14:17:47.293308Z",
     "iopub.status.idle": "2025-10-02T14:17:47.293796Z",
     "shell.execute_reply": "2025-10-02T14:17:47.293656Z",
     "shell.execute_reply.started": "2025-10-02T14:17:47.293642Z"
    },
    "id": "35nDpc2_8VXO"
   },
   "outputs": [],
   "source": [
    "gpt2_model.save_pretrained(\"gpt2-imdb-ctrl\")\n",
    "gpt2_tokenizer.save_pretrained(\"gpt2-imdb-ctrl\")"
   ]
  },
  {
   "cell_type": "code",
   "execution_count": null,
   "metadata": {
    "id": "dIiU9wSj8mRR"
   },
   "outputs": [],
   "source": []
  },
  {
   "cell_type": "code",
   "execution_count": null,
   "metadata": {},
   "outputs": [],
   "source": []
  },
  {
   "cell_type": "code",
   "execution_count": null,
   "metadata": {},
   "outputs": [],
   "source": []
  },
  {
   "cell_type": "code",
   "execution_count": null,
   "metadata": {},
   "outputs": [],
   "source": []
  },
  {
   "cell_type": "code",
   "execution_count": null,
   "metadata": {},
   "outputs": [],
   "source": []
  },
  {
   "cell_type": "code",
   "execution_count": null,
   "metadata": {},
   "outputs": [],
   "source": []
  }
 ],
 "metadata": {
  "accelerator": "GPU",
  "colab": {
   "gpuType": "T4",
   "provenance": []
  },
  "kernelspec": {
   "display_name": "Python 3 (ipykernel)",
   "language": "python",
   "name": "python3"
  },
  "language_info": {
   "codemirror_mode": {
    "name": "ipython",
    "version": 3
   },
   "file_extension": ".py",
   "mimetype": "text/x-python",
   "name": "python",
   "nbconvert_exporter": "python",
   "pygments_lexer": "ipython3",
   "version": "3.10.8"
  },
  "vscode": {
   "interpreter": {
    "hash": "d2cfb53525227c89f8d14fa784301fa46c451cc9223d94ccce9e17956835eea2"
   }
  },
  "widgets": {
   "application/vnd.jupyter.widget-state+json": {
    "03567660a91f4ac78999f921b609e242": {
     "model_module": "@jupyter-widgets/controls",
     "model_module_version": "1.5.0",
     "model_name": "HBoxModel",
     "state": {
      "_dom_classes": [],
      "_model_module": "@jupyter-widgets/controls",
      "_model_module_version": "1.5.0",
      "_model_name": "HBoxModel",
      "_view_count": null,
      "_view_module": "@jupyter-widgets/controls",
      "_view_module_version": "1.5.0",
      "_view_name": "HBoxView",
      "box_style": "",
      "children": [
       "IPY_MODEL_1fa1baf7df744d6b8e9e5d7fabc67345",
       "IPY_MODEL_4cbc90a5ed1b4e5da61054f13b699053",
       "IPY_MODEL_24b1a89895b54e99b8fbcdcfedc59166"
      ],
      "layout": "IPY_MODEL_b78d2949b2964ae29757595d79a3d256"
     }
    },
    "0698bcc01ea147218f0835df73fe403d": {
     "model_module": "@jupyter-widgets/controls",
     "model_module_version": "1.5.0",
     "model_name": "DescriptionStyleModel",
     "state": {
      "_model_module": "@jupyter-widgets/controls",
      "_model_module_version": "1.5.0",
      "_model_name": "DescriptionStyleModel",
      "_view_count": null,
      "_view_module": "@jupyter-widgets/base",
      "_view_module_version": "1.2.0",
      "_view_name": "StyleView",
      "description_width": ""
     }
    },
    "0daf9a0c32c24e1b9e5b89ff9f624cdb": {
     "model_module": "@jupyter-widgets/base",
     "model_module_version": "1.2.0",
     "model_name": "LayoutModel",
     "state": {
      "_model_module": "@jupyter-widgets/base",
      "_model_module_version": "1.2.0",
      "_model_name": "LayoutModel",
      "_view_count": null,
      "_view_module": "@jupyter-widgets/base",
      "_view_module_version": "1.2.0",
      "_view_name": "LayoutView",
      "align_content": null,
      "align_items": null,
      "align_self": null,
      "border": null,
      "bottom": null,
      "display": null,
      "flex": null,
      "flex_flow": null,
      "grid_area": null,
      "grid_auto_columns": null,
      "grid_auto_flow": null,
      "grid_auto_rows": null,
      "grid_column": null,
      "grid_gap": null,
      "grid_row": null,
      "grid_template_areas": null,
      "grid_template_columns": null,
      "grid_template_rows": null,
      "height": null,
      "justify_content": null,
      "justify_items": null,
      "left": null,
      "margin": null,
      "max_height": null,
      "max_width": null,
      "min_height": null,
      "min_width": null,
      "object_fit": null,
      "object_position": null,
      "order": null,
      "overflow": null,
      "overflow_x": null,
      "overflow_y": null,
      "padding": null,
      "right": null,
      "top": null,
      "visibility": null,
      "width": null
     }
    },
    "12c702f541454560aa9484547995834f": {
     "model_module": "@jupyter-widgets/controls",
     "model_module_version": "1.5.0",
     "model_name": "DescriptionStyleModel",
     "state": {
      "_model_module": "@jupyter-widgets/controls",
      "_model_module_version": "1.5.0",
      "_model_name": "DescriptionStyleModel",
      "_view_count": null,
      "_view_module": "@jupyter-widgets/base",
      "_view_module_version": "1.2.0",
      "_view_name": "StyleView",
      "description_width": ""
     }
    },
    "16ac7fa6c9a74162b5a7efd5acd4217a": {
     "model_module": "@jupyter-widgets/controls",
     "model_module_version": "1.5.0",
     "model_name": "DescriptionStyleModel",
     "state": {
      "_model_module": "@jupyter-widgets/controls",
      "_model_module_version": "1.5.0",
      "_model_name": "DescriptionStyleModel",
      "_view_count": null,
      "_view_module": "@jupyter-widgets/base",
      "_view_module_version": "1.2.0",
      "_view_name": "StyleView",
      "description_width": ""
     }
    },
    "18bcf0683f134636b2d062e1d8e92dca": {
     "model_module": "@jupyter-widgets/base",
     "model_module_version": "1.2.0",
     "model_name": "LayoutModel",
     "state": {
      "_model_module": "@jupyter-widgets/base",
      "_model_module_version": "1.2.0",
      "_model_name": "LayoutModel",
      "_view_count": null,
      "_view_module": "@jupyter-widgets/base",
      "_view_module_version": "1.2.0",
      "_view_name": "LayoutView",
      "align_content": null,
      "align_items": null,
      "align_self": null,
      "border": null,
      "bottom": null,
      "display": null,
      "flex": null,
      "flex_flow": null,
      "grid_area": null,
      "grid_auto_columns": null,
      "grid_auto_flow": null,
      "grid_auto_rows": null,
      "grid_column": null,
      "grid_gap": null,
      "grid_row": null,
      "grid_template_areas": null,
      "grid_template_columns": null,
      "grid_template_rows": null,
      "height": null,
      "justify_content": null,
      "justify_items": null,
      "left": null,
      "margin": null,
      "max_height": null,
      "max_width": null,
      "min_height": null,
      "min_width": null,
      "object_fit": null,
      "object_position": null,
      "order": null,
      "overflow": null,
      "overflow_x": null,
      "overflow_y": null,
      "padding": null,
      "right": null,
      "top": null,
      "visibility": null,
      "width": null
     }
    },
    "1fa1baf7df744d6b8e9e5d7fabc67345": {
     "model_module": "@jupyter-widgets/controls",
     "model_module_version": "1.5.0",
     "model_name": "HTMLModel",
     "state": {
      "_dom_classes": [],
      "_model_module": "@jupyter-widgets/controls",
      "_model_module_version": "1.5.0",
      "_model_name": "HTMLModel",
      "_view_count": null,
      "_view_module": "@jupyter-widgets/controls",
      "_view_module_version": "1.5.0",
      "_view_name": "HTMLView",
      "description": "",
      "description_tooltip": null,
      "layout": "IPY_MODEL_b4987dde895e461fa78c76ef75dd49c8",
      "placeholder": "​",
      "style": "IPY_MODEL_b90a41b123cc4365961d5fd1e55bee39",
      "value": "vocab.json: "
     }
    },
    "2065e1489aef4367b2adc4615dabdcaa": {
     "model_module": "@jupyter-widgets/controls",
     "model_module_version": "1.5.0",
     "model_name": "FloatProgressModel",
     "state": {
      "_dom_classes": [],
      "_model_module": "@jupyter-widgets/controls",
      "_model_module_version": "1.5.0",
      "_model_name": "FloatProgressModel",
      "_view_count": null,
      "_view_module": "@jupyter-widgets/controls",
      "_view_module_version": "1.5.0",
      "_view_name": "ProgressView",
      "bar_style": "success",
      "description": "",
      "description_tooltip": null,
      "layout": "IPY_MODEL_8d04c2f5555b4ae385fad417f7faf829",
      "max": 22578,
      "min": 0,
      "orientation": "horizontal",
      "style": "IPY_MODEL_91c987fe9e37434bafff869e52564e57",
      "value": 22578
     }
    },
    "2162d9b7274d4e938b7f2df5e6baf8fc": {
     "model_module": "@jupyter-widgets/controls",
     "model_module_version": "1.5.0",
     "model_name": "HTMLModel",
     "state": {
      "_dom_classes": [],
      "_model_module": "@jupyter-widgets/controls",
      "_model_module_version": "1.5.0",
      "_model_name": "HTMLModel",
      "_view_count": null,
      "_view_module": "@jupyter-widgets/controls",
      "_view_module_version": "1.5.0",
      "_view_name": "HTMLView",
      "description": "",
      "description_tooltip": null,
      "layout": "IPY_MODEL_fa82928ec98d4ffc9977ae223303a85b",
      "placeholder": "​",
      "style": "IPY_MODEL_436088a1cc614371bcca801f4802ee37",
      "value": "tokenizer_config.json: 100%"
     }
    },
    "21c708d78411425eae4ec1ec63600f4b": {
     "model_module": "@jupyter-widgets/controls",
     "model_module_version": "1.5.0",
     "model_name": "HTMLModel",
     "state": {
      "_dom_classes": [],
      "_model_module": "@jupyter-widgets/controls",
      "_model_module_version": "1.5.0",
      "_model_name": "HTMLModel",
      "_view_count": null,
      "_view_module": "@jupyter-widgets/controls",
      "_view_module_version": "1.5.0",
      "_view_name": "HTMLView",
      "description": "",
      "description_tooltip": null,
      "layout": "IPY_MODEL_452f552b1d0d4c179ab326e59d75014a",
      "placeholder": "​",
      "style": "IPY_MODEL_4432a08caf1b43a69f8993516f8feb45",
      "value": "pytorch_model.bin: 100%"
     }
    },
    "24890c5b241048bd80a9de9f4a8f6a71": {
     "model_module": "@jupyter-widgets/base",
     "model_module_version": "1.2.0",
     "model_name": "LayoutModel",
     "state": {
      "_model_module": "@jupyter-widgets/base",
      "_model_module_version": "1.2.0",
      "_model_name": "LayoutModel",
      "_view_count": null,
      "_view_module": "@jupyter-widgets/base",
      "_view_module_version": "1.2.0",
      "_view_name": "LayoutView",
      "align_content": null,
      "align_items": null,
      "align_self": null,
      "border": null,
      "bottom": null,
      "display": null,
      "flex": null,
      "flex_flow": null,
      "grid_area": null,
      "grid_auto_columns": null,
      "grid_auto_flow": null,
      "grid_auto_rows": null,
      "grid_column": null,
      "grid_gap": null,
      "grid_row": null,
      "grid_template_areas": null,
      "grid_template_columns": null,
      "grid_template_rows": null,
      "height": null,
      "justify_content": null,
      "justify_items": null,
      "left": null,
      "margin": null,
      "max_height": null,
      "max_width": null,
      "min_height": null,
      "min_width": null,
      "object_fit": null,
      "object_position": null,
      "order": null,
      "overflow": null,
      "overflow_x": null,
      "overflow_y": null,
      "padding": null,
      "right": null,
      "top": null,
      "visibility": null,
      "width": "20px"
     }
    },
    "24b1a89895b54e99b8fbcdcfedc59166": {
     "model_module": "@jupyter-widgets/controls",
     "model_module_version": "1.5.0",
     "model_name": "HTMLModel",
     "state": {
      "_dom_classes": [],
      "_model_module": "@jupyter-widgets/controls",
      "_model_module_version": "1.5.0",
      "_model_name": "HTMLModel",
      "_view_count": null,
      "_view_module": "@jupyter-widgets/controls",
      "_view_module_version": "1.5.0",
      "_view_name": "HTMLView",
      "description": "",
      "description_tooltip": null,
      "layout": "IPY_MODEL_f6ec84261084479fb68635213a721c1f",
      "placeholder": "​",
      "style": "IPY_MODEL_458e6f95a81140408755a0934bcc6c49",
      "value": " 899k/? [00:00&lt;00:00, 5.36MB/s]"
     }
    },
    "25dbb9dab3be451fbae095e34fcad18e": {
     "model_module": "@jupyter-widgets/base",
     "model_module_version": "1.2.0",
     "model_name": "LayoutModel",
     "state": {
      "_model_module": "@jupyter-widgets/base",
      "_model_module_version": "1.2.0",
      "_model_name": "LayoutModel",
      "_view_count": null,
      "_view_module": "@jupyter-widgets/base",
      "_view_module_version": "1.2.0",
      "_view_name": "LayoutView",
      "align_content": null,
      "align_items": null,
      "align_self": null,
      "border": null,
      "bottom": null,
      "display": null,
      "flex": null,
      "flex_flow": null,
      "grid_area": null,
      "grid_auto_columns": null,
      "grid_auto_flow": null,
      "grid_auto_rows": null,
      "grid_column": null,
      "grid_gap": null,
      "grid_row": null,
      "grid_template_areas": null,
      "grid_template_columns": null,
      "grid_template_rows": null,
      "height": null,
      "justify_content": null,
      "justify_items": null,
      "left": null,
      "margin": null,
      "max_height": null,
      "max_width": null,
      "min_height": null,
      "min_width": null,
      "object_fit": null,
      "object_position": null,
      "order": null,
      "overflow": null,
      "overflow_x": null,
      "overflow_y": null,
      "padding": null,
      "right": null,
      "top": null,
      "visibility": null,
      "width": null
     }
    },
    "2b42cae8dc96472bb89d123cd1234851": {
     "model_module": "@jupyter-widgets/controls",
     "model_module_version": "1.5.0",
     "model_name": "HTMLModel",
     "state": {
      "_dom_classes": [],
      "_model_module": "@jupyter-widgets/controls",
      "_model_module_version": "1.5.0",
      "_model_name": "HTMLModel",
      "_view_count": null,
      "_view_module": "@jupyter-widgets/controls",
      "_view_module_version": "1.5.0",
      "_view_name": "HTMLView",
      "description": "",
      "description_tooltip": null,
      "layout": "IPY_MODEL_c155ccede0584d93aff0594c0a0996a8",
      "placeholder": "​",
      "style": "IPY_MODEL_16ac7fa6c9a74162b5a7efd5acd4217a",
      "value": " 548M/548M [00:09&lt;00:00, 91.1MB/s]"
     }
    },
    "2c519f9d73084e45a55a78fdb9be227f": {
     "model_module": "@jupyter-widgets/controls",
     "model_module_version": "1.5.0",
     "model_name": "HBoxModel",
     "state": {
      "_dom_classes": [],
      "_model_module": "@jupyter-widgets/controls",
      "_model_module_version": "1.5.0",
      "_model_name": "HBoxModel",
      "_view_count": null,
      "_view_module": "@jupyter-widgets/controls",
      "_view_module_version": "1.5.0",
      "_view_name": "HBoxView",
      "box_style": "",
      "children": [
       "IPY_MODEL_78c65b2cb08c4c1ab48327e193cfb653",
       "IPY_MODEL_ca1a60dbf5fd41edb4a2374927d59290",
       "IPY_MODEL_2b42cae8dc96472bb89d123cd1234851"
      ],
      "layout": "IPY_MODEL_58c84b72a67c4aebb7c5b7f988bf21d7"
     }
    },
    "345e2bfdde8143458c997669717e70d3": {
     "model_module": "@jupyter-widgets/base",
     "model_module_version": "1.2.0",
     "model_name": "LayoutModel",
     "state": {
      "_model_module": "@jupyter-widgets/base",
      "_model_module_version": "1.2.0",
      "_model_name": "LayoutModel",
      "_view_count": null,
      "_view_module": "@jupyter-widgets/base",
      "_view_module_version": "1.2.0",
      "_view_name": "LayoutView",
      "align_content": null,
      "align_items": null,
      "align_self": null,
      "border": null,
      "bottom": null,
      "display": null,
      "flex": null,
      "flex_flow": null,
      "grid_area": null,
      "grid_auto_columns": null,
      "grid_auto_flow": null,
      "grid_auto_rows": null,
      "grid_column": null,
      "grid_gap": null,
      "grid_row": null,
      "grid_template_areas": null,
      "grid_template_columns": null,
      "grid_template_rows": null,
      "height": null,
      "justify_content": null,
      "justify_items": null,
      "left": null,
      "margin": null,
      "max_height": null,
      "max_width": null,
      "min_height": null,
      "min_width": null,
      "object_fit": null,
      "object_position": null,
      "order": null,
      "overflow": null,
      "overflow_x": null,
      "overflow_y": null,
      "padding": null,
      "right": null,
      "top": null,
      "visibility": null,
      "width": null
     }
    },
    "3b6913bfbea44634ab179ffa15e914dc": {
     "model_module": "@jupyter-widgets/base",
     "model_module_version": "1.2.0",
     "model_name": "LayoutModel",
     "state": {
      "_model_module": "@jupyter-widgets/base",
      "_model_module_version": "1.2.0",
      "_model_name": "LayoutModel",
      "_view_count": null,
      "_view_module": "@jupyter-widgets/base",
      "_view_module_version": "1.2.0",
      "_view_name": "LayoutView",
      "align_content": null,
      "align_items": null,
      "align_self": null,
      "border": null,
      "bottom": null,
      "display": null,
      "flex": null,
      "flex_flow": null,
      "grid_area": null,
      "grid_auto_columns": null,
      "grid_auto_flow": null,
      "grid_auto_rows": null,
      "grid_column": null,
      "grid_gap": null,
      "grid_row": null,
      "grid_template_areas": null,
      "grid_template_columns": null,
      "grid_template_rows": null,
      "height": null,
      "justify_content": null,
      "justify_items": null,
      "left": null,
      "margin": null,
      "max_height": null,
      "max_width": null,
      "min_height": null,
      "min_width": null,
      "object_fit": null,
      "object_position": null,
      "order": null,
      "overflow": null,
      "overflow_x": null,
      "overflow_y": null,
      "padding": null,
      "right": null,
      "top": null,
      "visibility": null,
      "width": null
     }
    },
    "3e6e5d254a794b528dd8821a9f917a72": {
     "model_module": "@jupyter-widgets/base",
     "model_module_version": "1.2.0",
     "model_name": "LayoutModel",
     "state": {
      "_model_module": "@jupyter-widgets/base",
      "_model_module_version": "1.2.0",
      "_model_name": "LayoutModel",
      "_view_count": null,
      "_view_module": "@jupyter-widgets/base",
      "_view_module_version": "1.2.0",
      "_view_name": "LayoutView",
      "align_content": null,
      "align_items": null,
      "align_self": null,
      "border": null,
      "bottom": null,
      "display": null,
      "flex": null,
      "flex_flow": null,
      "grid_area": null,
      "grid_auto_columns": null,
      "grid_auto_flow": null,
      "grid_auto_rows": null,
      "grid_column": null,
      "grid_gap": null,
      "grid_row": null,
      "grid_template_areas": null,
      "grid_template_columns": null,
      "grid_template_rows": null,
      "height": null,
      "justify_content": null,
      "justify_items": null,
      "left": null,
      "margin": null,
      "max_height": null,
      "max_width": null,
      "min_height": null,
      "min_width": null,
      "object_fit": null,
      "object_position": null,
      "order": null,
      "overflow": null,
      "overflow_x": null,
      "overflow_y": null,
      "padding": null,
      "right": null,
      "top": null,
      "visibility": null,
      "width": null
     }
    },
    "436088a1cc614371bcca801f4802ee37": {
     "model_module": "@jupyter-widgets/controls",
     "model_module_version": "1.5.0",
     "model_name": "DescriptionStyleModel",
     "state": {
      "_model_module": "@jupyter-widgets/controls",
      "_model_module_version": "1.5.0",
      "_model_name": "DescriptionStyleModel",
      "_view_count": null,
      "_view_module": "@jupyter-widgets/base",
      "_view_module_version": "1.2.0",
      "_view_name": "StyleView",
      "description_width": ""
     }
    },
    "4432a08caf1b43a69f8993516f8feb45": {
     "model_module": "@jupyter-widgets/controls",
     "model_module_version": "1.5.0",
     "model_name": "DescriptionStyleModel",
     "state": {
      "_model_module": "@jupyter-widgets/controls",
      "_model_module_version": "1.5.0",
      "_model_name": "DescriptionStyleModel",
      "_view_count": null,
      "_view_module": "@jupyter-widgets/base",
      "_view_module_version": "1.2.0",
      "_view_name": "StyleView",
      "description_width": ""
     }
    },
    "4461f020dc3a47f293450171ee0ea85b": {
     "model_module": "@jupyter-widgets/controls",
     "model_module_version": "1.5.0",
     "model_name": "HTMLModel",
     "state": {
      "_dom_classes": [],
      "_model_module": "@jupyter-widgets/controls",
      "_model_module_version": "1.5.0",
      "_model_name": "HTMLModel",
      "_view_count": null,
      "_view_module": "@jupyter-widgets/controls",
      "_view_module_version": "1.5.0",
      "_view_name": "HTMLView",
      "description": "",
      "description_tooltip": null,
      "layout": "IPY_MODEL_345e2bfdde8143458c997669717e70d3",
      "placeholder": "​",
      "style": "IPY_MODEL_7c8d3a71da3949ea89d477684979c7fc",
      "value": " 577/577 [00:00&lt;00:00, 7.69kB/s]"
     }
    },
    "452f552b1d0d4c179ab326e59d75014a": {
     "model_module": "@jupyter-widgets/base",
     "model_module_version": "1.2.0",
     "model_name": "LayoutModel",
     "state": {
      "_model_module": "@jupyter-widgets/base",
      "_model_module_version": "1.2.0",
      "_model_name": "LayoutModel",
      "_view_count": null,
      "_view_module": "@jupyter-widgets/base",
      "_view_module_version": "1.2.0",
      "_view_name": "LayoutView",
      "align_content": null,
      "align_items": null,
      "align_self": null,
      "border": null,
      "bottom": null,
      "display": null,
      "flex": null,
      "flex_flow": null,
      "grid_area": null,
      "grid_auto_columns": null,
      "grid_auto_flow": null,
      "grid_auto_rows": null,
      "grid_column": null,
      "grid_gap": null,
      "grid_row": null,
      "grid_template_areas": null,
      "grid_template_columns": null,
      "grid_template_rows": null,
      "height": null,
      "justify_content": null,
      "justify_items": null,
      "left": null,
      "margin": null,
      "max_height": null,
      "max_width": null,
      "min_height": null,
      "min_width": null,
      "object_fit": null,
      "object_position": null,
      "order": null,
      "overflow": null,
      "overflow_x": null,
      "overflow_y": null,
      "padding": null,
      "right": null,
      "top": null,
      "visibility": null,
      "width": null
     }
    },
    "458e6f95a81140408755a0934bcc6c49": {
     "model_module": "@jupyter-widgets/controls",
     "model_module_version": "1.5.0",
     "model_name": "DescriptionStyleModel",
     "state": {
      "_model_module": "@jupyter-widgets/controls",
      "_model_module_version": "1.5.0",
      "_model_name": "DescriptionStyleModel",
      "_view_count": null,
      "_view_module": "@jupyter-widgets/base",
      "_view_module_version": "1.2.0",
      "_view_name": "StyleView",
      "description_width": ""
     }
    },
    "46ef30bb565d4d3bba56dce1713dd450": {
     "model_module": "@jupyter-widgets/controls",
     "model_module_version": "1.5.0",
     "model_name": "FloatProgressModel",
     "state": {
      "_dom_classes": [],
      "_model_module": "@jupyter-widgets/controls",
      "_model_module_version": "1.5.0",
      "_model_name": "FloatProgressModel",
      "_view_count": null,
      "_view_module": "@jupyter-widgets/controls",
      "_view_module_version": "1.5.0",
      "_view_name": "ProgressView",
      "bar_style": "success",
      "description": "",
      "description_tooltip": null,
      "layout": "IPY_MODEL_b03f66aa0e1648e5aaae9e5abd560b16",
      "max": 17,
      "min": 0,
      "orientation": "horizontal",
      "style": "IPY_MODEL_bc9ebe59c8eb413aa0fe0db169ca69ac",
      "value": 17
     }
    },
    "4a58ad2f82c04415a6ef770190586b28": {
     "model_module": "@jupyter-widgets/controls",
     "model_module_version": "1.5.0",
     "model_name": "FloatProgressModel",
     "state": {
      "_dom_classes": [],
      "_model_module": "@jupyter-widgets/controls",
      "_model_module_version": "1.5.0",
      "_model_name": "FloatProgressModel",
      "_view_count": null,
      "_view_module": "@jupyter-widgets/controls",
      "_view_module_version": "1.5.0",
      "_view_name": "ProgressView",
      "bar_style": "success",
      "description": "",
      "description_tooltip": null,
      "layout": "IPY_MODEL_bc3f85935c9040faafbb0c0bdc7a7923",
      "max": 90,
      "min": 0,
      "orientation": "horizontal",
      "style": "IPY_MODEL_cbda542d0ba6494eb8a91eb685b066bf",
      "value": 90
     }
    },
    "4cbc90a5ed1b4e5da61054f13b699053": {
     "model_module": "@jupyter-widgets/controls",
     "model_module_version": "1.5.0",
     "model_name": "FloatProgressModel",
     "state": {
      "_dom_classes": [],
      "_model_module": "@jupyter-widgets/controls",
      "_model_module_version": "1.5.0",
      "_model_name": "FloatProgressModel",
      "_view_count": null,
      "_view_module": "@jupyter-widgets/controls",
      "_view_module_version": "1.5.0",
      "_view_name": "ProgressView",
      "bar_style": "success",
      "description": "",
      "description_tooltip": null,
      "layout": "IPY_MODEL_996ce9665a0e4e619bcee99f4158bf2b",
      "max": 1,
      "min": 0,
      "orientation": "horizontal",
      "style": "IPY_MODEL_997800455e424581b6bb46ef9d2478d9",
      "value": 1
     }
    },
    "4e6dd48281fb4ce58f49bee4808e4059": {
     "model_module": "@jupyter-widgets/controls",
     "model_module_version": "1.5.0",
     "model_name": "DescriptionStyleModel",
     "state": {
      "_model_module": "@jupyter-widgets/controls",
      "_model_module_version": "1.5.0",
      "_model_name": "DescriptionStyleModel",
      "_view_count": null,
      "_view_module": "@jupyter-widgets/base",
      "_view_module_version": "1.2.0",
      "_view_name": "StyleView",
      "description_width": ""
     }
    },
    "50a121fd39314fb0b1a52d12d059c8a7": {
     "model_module": "@jupyter-widgets/controls",
     "model_module_version": "1.5.0",
     "model_name": "HBoxModel",
     "state": {
      "_dom_classes": [],
      "_model_module": "@jupyter-widgets/controls",
      "_model_module_version": "1.5.0",
      "_model_name": "HBoxModel",
      "_view_count": null,
      "_view_module": "@jupyter-widgets/controls",
      "_view_module_version": "1.5.0",
      "_view_name": "HBoxView",
      "box_style": "",
      "children": [
       "IPY_MODEL_88756c33f9e445cb84b54668e86f4895",
       "IPY_MODEL_ee179ae75ece44b28ef899851f951188",
       "IPY_MODEL_af795f97c4374b3f9f9ed5a983b2305b"
      ],
      "layout": "IPY_MODEL_e83378f641b644c49b128d7ed46a854d"
     }
    },
    "53cd92f3da624214b64ff0c9bf59ccda": {
     "model_module": "@jupyter-widgets/controls",
     "model_module_version": "1.5.0",
     "model_name": "ProgressStyleModel",
     "state": {
      "_model_module": "@jupyter-widgets/controls",
      "_model_module_version": "1.5.0",
      "_model_name": "ProgressStyleModel",
      "_view_count": null,
      "_view_module": "@jupyter-widgets/base",
      "_view_module_version": "1.2.0",
      "_view_name": "StyleView",
      "bar_color": null,
      "description_width": ""
     }
    },
    "54873d33c4994be08ce614a91b85c020": {
     "model_module": "@jupyter-widgets/base",
     "model_module_version": "1.2.0",
     "model_name": "LayoutModel",
     "state": {
      "_model_module": "@jupyter-widgets/base",
      "_model_module_version": "1.2.0",
      "_model_name": "LayoutModel",
      "_view_count": null,
      "_view_module": "@jupyter-widgets/base",
      "_view_module_version": "1.2.0",
      "_view_name": "LayoutView",
      "align_content": null,
      "align_items": null,
      "align_self": null,
      "border": null,
      "bottom": null,
      "display": null,
      "flex": null,
      "flex_flow": null,
      "grid_area": null,
      "grid_auto_columns": null,
      "grid_auto_flow": null,
      "grid_auto_rows": null,
      "grid_column": null,
      "grid_gap": null,
      "grid_row": null,
      "grid_template_areas": null,
      "grid_template_columns": null,
      "grid_template_rows": null,
      "height": null,
      "justify_content": null,
      "justify_items": null,
      "left": null,
      "margin": null,
      "max_height": null,
      "max_width": null,
      "min_height": null,
      "min_width": null,
      "object_fit": null,
      "object_position": null,
      "order": null,
      "overflow": null,
      "overflow_x": null,
      "overflow_y": null,
      "padding": null,
      "right": null,
      "top": null,
      "visibility": null,
      "width": null
     }
    },
    "5606675ab72d4d159aad33e1a35b0646": {
     "model_module": "@jupyter-widgets/controls",
     "model_module_version": "1.5.0",
     "model_name": "DescriptionStyleModel",
     "state": {
      "_model_module": "@jupyter-widgets/controls",
      "_model_module_version": "1.5.0",
      "_model_name": "DescriptionStyleModel",
      "_view_count": null,
      "_view_module": "@jupyter-widgets/base",
      "_view_module_version": "1.2.0",
      "_view_name": "StyleView",
      "description_width": ""
     }
    },
    "58c84b72a67c4aebb7c5b7f988bf21d7": {
     "model_module": "@jupyter-widgets/base",
     "model_module_version": "1.2.0",
     "model_name": "LayoutModel",
     "state": {
      "_model_module": "@jupyter-widgets/base",
      "_model_module_version": "1.2.0",
      "_model_name": "LayoutModel",
      "_view_count": null,
      "_view_module": "@jupyter-widgets/base",
      "_view_module_version": "1.2.0",
      "_view_name": "LayoutView",
      "align_content": null,
      "align_items": null,
      "align_self": null,
      "border": null,
      "bottom": null,
      "display": null,
      "flex": null,
      "flex_flow": null,
      "grid_area": null,
      "grid_auto_columns": null,
      "grid_auto_flow": null,
      "grid_auto_rows": null,
      "grid_column": null,
      "grid_gap": null,
      "grid_row": null,
      "grid_template_areas": null,
      "grid_template_columns": null,
      "grid_template_rows": null,
      "height": null,
      "justify_content": null,
      "justify_items": null,
      "left": null,
      "margin": null,
      "max_height": null,
      "max_width": null,
      "min_height": null,
      "min_width": null,
      "object_fit": null,
      "object_position": null,
      "order": null,
      "overflow": null,
      "overflow_x": null,
      "overflow_y": null,
      "padding": null,
      "right": null,
      "top": null,
      "visibility": null,
      "width": null
     }
    },
    "5b592ffac1a3476cb52c9e28e4a1c815": {
     "model_module": "@jupyter-widgets/base",
     "model_module_version": "1.2.0",
     "model_name": "LayoutModel",
     "state": {
      "_model_module": "@jupyter-widgets/base",
      "_model_module_version": "1.2.0",
      "_model_name": "LayoutModel",
      "_view_count": null,
      "_view_module": "@jupyter-widgets/base",
      "_view_module_version": "1.2.0",
      "_view_name": "LayoutView",
      "align_content": null,
      "align_items": null,
      "align_self": null,
      "border": null,
      "bottom": null,
      "display": null,
      "flex": null,
      "flex_flow": null,
      "grid_area": null,
      "grid_auto_columns": null,
      "grid_auto_flow": null,
      "grid_auto_rows": null,
      "grid_column": null,
      "grid_gap": null,
      "grid_row": null,
      "grid_template_areas": null,
      "grid_template_columns": null,
      "grid_template_rows": null,
      "height": null,
      "justify_content": null,
      "justify_items": null,
      "left": null,
      "margin": null,
      "max_height": null,
      "max_width": null,
      "min_height": null,
      "min_width": null,
      "object_fit": null,
      "object_position": null,
      "order": null,
      "overflow": null,
      "overflow_x": null,
      "overflow_y": null,
      "padding": null,
      "right": null,
      "top": null,
      "visibility": null,
      "width": null
     }
    },
    "5d95e970ccc540388a8c3dd5e91664a4": {
     "model_module": "@jupyter-widgets/controls",
     "model_module_version": "1.5.0",
     "model_name": "HTMLModel",
     "state": {
      "_dom_classes": [],
      "_model_module": "@jupyter-widgets/controls",
      "_model_module_version": "1.5.0",
      "_model_name": "HTMLModel",
      "_view_count": null,
      "_view_module": "@jupyter-widgets/controls",
      "_view_module_version": "1.5.0",
      "_view_name": "HTMLView",
      "description": "",
      "description_tooltip": null,
      "layout": "IPY_MODEL_9347c2fd53ba47a2b8b86043ba529d23",
      "placeholder": "​",
      "style": "IPY_MODEL_4e6dd48281fb4ce58f49bee4808e4059",
      "value": " 17.0/17.0 [00:00&lt;00:00, 240B/s]"
     }
    },
    "5d9d32fbc9694614b49f4f2aff55413e": {
     "model_module": "@jupyter-widgets/controls",
     "model_module_version": "1.5.0",
     "model_name": "ProgressStyleModel",
     "state": {
      "_model_module": "@jupyter-widgets/controls",
      "_model_module_version": "1.5.0",
      "_model_name": "ProgressStyleModel",
      "_view_count": null,
      "_view_module": "@jupyter-widgets/base",
      "_view_module_version": "1.2.0",
      "_view_name": "StyleView",
      "bar_color": null,
      "description_width": ""
     }
    },
    "5ddd59e3ac6a49b3803af0dd7ee550e7": {
     "model_module": "@jupyter-widgets/base",
     "model_module_version": "1.2.0",
     "model_name": "LayoutModel",
     "state": {
      "_model_module": "@jupyter-widgets/base",
      "_model_module_version": "1.2.0",
      "_model_name": "LayoutModel",
      "_view_count": null,
      "_view_module": "@jupyter-widgets/base",
      "_view_module_version": "1.2.0",
      "_view_name": "LayoutView",
      "align_content": null,
      "align_items": null,
      "align_self": null,
      "border": null,
      "bottom": null,
      "display": null,
      "flex": null,
      "flex_flow": null,
      "grid_area": null,
      "grid_auto_columns": null,
      "grid_auto_flow": null,
      "grid_auto_rows": null,
      "grid_column": null,
      "grid_gap": null,
      "grid_row": null,
      "grid_template_areas": null,
      "grid_template_columns": null,
      "grid_template_rows": null,
      "height": null,
      "justify_content": null,
      "justify_items": null,
      "left": null,
      "margin": null,
      "max_height": null,
      "max_width": null,
      "min_height": null,
      "min_width": null,
      "object_fit": null,
      "object_position": null,
      "order": null,
      "overflow": null,
      "overflow_x": null,
      "overflow_y": null,
      "padding": null,
      "right": null,
      "top": null,
      "visibility": null,
      "width": null
     }
    },
    "600de8d642f94c2ab6afdf6bf89b475f": {
     "model_module": "@jupyter-widgets/controls",
     "model_module_version": "1.5.0",
     "model_name": "HBoxModel",
     "state": {
      "_dom_classes": [],
      "_model_module": "@jupyter-widgets/controls",
      "_model_module_version": "1.5.0",
      "_model_name": "HBoxModel",
      "_view_count": null,
      "_view_module": "@jupyter-widgets/controls",
      "_view_module_version": "1.5.0",
      "_view_name": "HBoxView",
      "box_style": "",
      "children": [
       "IPY_MODEL_6f6c7b0db11d4c958aee4ccc5da2e97e",
       "IPY_MODEL_978bf5b6be6a40428acdb0868e70d385",
       "IPY_MODEL_95a40e299c834d00b51921f17a37bc95"
      ],
      "layout": "IPY_MODEL_f354c62edd804c18bbe11bef04584919"
     }
    },
    "6243cbd9c95e4623aaad3f4cd2c94350": {
     "model_module": "@jupyter-widgets/base",
     "model_module_version": "1.2.0",
     "model_name": "LayoutModel",
     "state": {
      "_model_module": "@jupyter-widgets/base",
      "_model_module_version": "1.2.0",
      "_model_name": "LayoutModel",
      "_view_count": null,
      "_view_module": "@jupyter-widgets/base",
      "_view_module_version": "1.2.0",
      "_view_name": "LayoutView",
      "align_content": null,
      "align_items": null,
      "align_self": null,
      "border": null,
      "bottom": null,
      "display": null,
      "flex": null,
      "flex_flow": null,
      "grid_area": null,
      "grid_auto_columns": null,
      "grid_auto_flow": null,
      "grid_auto_rows": null,
      "grid_column": null,
      "grid_gap": null,
      "grid_row": null,
      "grid_template_areas": null,
      "grid_template_columns": null,
      "grid_template_rows": null,
      "height": null,
      "justify_content": null,
      "justify_items": null,
      "left": null,
      "margin": null,
      "max_height": null,
      "max_width": null,
      "min_height": null,
      "min_width": null,
      "object_fit": null,
      "object_position": null,
      "order": null,
      "overflow": null,
      "overflow_x": null,
      "overflow_y": null,
      "padding": null,
      "right": null,
      "top": null,
      "visibility": null,
      "width": null
     }
    },
    "64a7019d24a94765beec31df411526e3": {
     "model_module": "@jupyter-widgets/controls",
     "model_module_version": "1.5.0",
     "model_name": "DescriptionStyleModel",
     "state": {
      "_model_module": "@jupyter-widgets/controls",
      "_model_module_version": "1.5.0",
      "_model_name": "DescriptionStyleModel",
      "_view_count": null,
      "_view_module": "@jupyter-widgets/base",
      "_view_module_version": "1.2.0",
      "_view_name": "StyleView",
      "description_width": ""
     }
    },
    "65894a9b784149ef86475d11bf73b8aa": {
     "model_module": "@jupyter-widgets/controls",
     "model_module_version": "1.5.0",
     "model_name": "HBoxModel",
     "state": {
      "_dom_classes": [],
      "_model_module": "@jupyter-widgets/controls",
      "_model_module_version": "1.5.0",
      "_model_name": "HBoxModel",
      "_view_count": null,
      "_view_module": "@jupyter-widgets/controls",
      "_view_module_version": "1.5.0",
      "_view_name": "HBoxView",
      "box_style": "",
      "children": [
       "IPY_MODEL_e71bc8d668ab42778a533cdb23100684",
       "IPY_MODEL_95717658f85a4029bb2a3b19acc0abab",
       "IPY_MODEL_4461f020dc3a47f293450171ee0ea85b"
      ],
      "layout": "IPY_MODEL_5ddd59e3ac6a49b3803af0dd7ee550e7"
     }
    },
    "66055024841d4158b60bdfd4945a4c88": {
     "model_module": "@jupyter-widgets/controls",
     "model_module_version": "1.5.0",
     "model_name": "DescriptionStyleModel",
     "state": {
      "_model_module": "@jupyter-widgets/controls",
      "_model_module_version": "1.5.0",
      "_model_name": "DescriptionStyleModel",
      "_view_count": null,
      "_view_module": "@jupyter-widgets/base",
      "_view_module_version": "1.2.0",
      "_view_name": "StyleView",
      "description_width": ""
     }
    },
    "6f6c7b0db11d4c958aee4ccc5da2e97e": {
     "model_module": "@jupyter-widgets/controls",
     "model_module_version": "1.5.0",
     "model_name": "HTMLModel",
     "state": {
      "_dom_classes": [],
      "_model_module": "@jupyter-widgets/controls",
      "_model_module_version": "1.5.0",
      "_model_name": "HTMLModel",
      "_view_count": null,
      "_view_module": "@jupyter-widgets/controls",
      "_view_module_version": "1.5.0",
      "_view_name": "HTMLView",
      "description": "",
      "description_tooltip": null,
      "layout": "IPY_MODEL_b54a2ad0639b4091ac70c642274851b4",
      "placeholder": "​",
      "style": "IPY_MODEL_64a7019d24a94765beec31df411526e3",
      "value": "Map: 100%"
     }
    },
    "705a89f44c6f4aa0b8e3a803ce1774a1": {
     "model_module": "@jupyter-widgets/controls",
     "model_module_version": "1.5.0",
     "model_name": "HBoxModel",
     "state": {
      "_dom_classes": [],
      "_model_module": "@jupyter-widgets/controls",
      "_model_module_version": "1.5.0",
      "_model_name": "HBoxModel",
      "_view_count": null,
      "_view_module": "@jupyter-widgets/controls",
      "_view_module_version": "1.5.0",
      "_view_name": "HBoxView",
      "box_style": "",
      "children": [
       "IPY_MODEL_e9bf560ab9594085af461375b0183700",
       "IPY_MODEL_4a58ad2f82c04415a6ef770190586b28",
       "IPY_MODEL_bc4d36c1d6014aaebcf5e7eb83dcebe5"
      ],
      "layout": "IPY_MODEL_89a91db4fbec4f00991dae0e257f7145"
     }
    },
    "7441a59afd9e410087c6a2e3afb09a89": {
     "model_module": "@jupyter-widgets/base",
     "model_module_version": "1.2.0",
     "model_name": "LayoutModel",
     "state": {
      "_model_module": "@jupyter-widgets/base",
      "_model_module_version": "1.2.0",
      "_model_name": "LayoutModel",
      "_view_count": null,
      "_view_module": "@jupyter-widgets/base",
      "_view_module_version": "1.2.0",
      "_view_name": "LayoutView",
      "align_content": null,
      "align_items": null,
      "align_self": null,
      "border": null,
      "bottom": null,
      "display": null,
      "flex": null,
      "flex_flow": null,
      "grid_area": null,
      "grid_auto_columns": null,
      "grid_auto_flow": null,
      "grid_auto_rows": null,
      "grid_column": null,
      "grid_gap": null,
      "grid_row": null,
      "grid_template_areas": null,
      "grid_template_columns": null,
      "grid_template_rows": null,
      "height": null,
      "justify_content": null,
      "justify_items": null,
      "left": null,
      "margin": null,
      "max_height": null,
      "max_width": null,
      "min_height": null,
      "min_width": null,
      "object_fit": null,
      "object_position": null,
      "order": null,
      "overflow": null,
      "overflow_x": null,
      "overflow_y": null,
      "padding": null,
      "right": null,
      "top": null,
      "visibility": null,
      "width": null
     }
    },
    "76a3259150b84ded834fab84e826a027": {
     "model_module": "@jupyter-widgets/controls",
     "model_module_version": "1.5.0",
     "model_name": "ProgressStyleModel",
     "state": {
      "_model_module": "@jupyter-widgets/controls",
      "_model_module_version": "1.5.0",
      "_model_name": "ProgressStyleModel",
      "_view_count": null,
      "_view_module": "@jupyter-widgets/base",
      "_view_module_version": "1.2.0",
      "_view_name": "StyleView",
      "bar_color": null,
      "description_width": ""
     }
    },
    "76f7e8478f2e4e25a9a60735cd174039": {
     "model_module": "@jupyter-widgets/controls",
     "model_module_version": "1.5.0",
     "model_name": "DescriptionStyleModel",
     "state": {
      "_model_module": "@jupyter-widgets/controls",
      "_model_module_version": "1.5.0",
      "_model_name": "DescriptionStyleModel",
      "_view_count": null,
      "_view_module": "@jupyter-widgets/base",
      "_view_module_version": "1.2.0",
      "_view_name": "StyleView",
      "description_width": ""
     }
    },
    "78c65b2cb08c4c1ab48327e193cfb653": {
     "model_module": "@jupyter-widgets/controls",
     "model_module_version": "1.5.0",
     "model_name": "HTMLModel",
     "state": {
      "_dom_classes": [],
      "_model_module": "@jupyter-widgets/controls",
      "_model_module_version": "1.5.0",
      "_model_name": "HTMLModel",
      "_view_count": null,
      "_view_module": "@jupyter-widgets/controls",
      "_view_module_version": "1.5.0",
      "_view_name": "HTMLView",
      "description": "",
      "description_tooltip": null,
      "layout": "IPY_MODEL_a5133225944242ea8566decf4169a7ca",
      "placeholder": "​",
      "style": "IPY_MODEL_79f9f2026d734ea9954c6e1e44c0079b",
      "value": "model.safetensors: 100%"
     }
    },
    "79a6286fb73e4313bc09ad5b8376e763": {
     "model_module": "@jupyter-widgets/controls",
     "model_module_version": "1.5.0",
     "model_name": "HBoxModel",
     "state": {
      "_dom_classes": [],
      "_model_module": "@jupyter-widgets/controls",
      "_model_module_version": "1.5.0",
      "_model_name": "HBoxModel",
      "_view_count": null,
      "_view_module": "@jupyter-widgets/controls",
      "_view_module_version": "1.5.0",
      "_view_name": "HBoxView",
      "box_style": "",
      "children": [
       "IPY_MODEL_21c708d78411425eae4ec1ec63600f4b",
       "IPY_MODEL_7b77b02c6708482d86a42bca67f8393a",
       "IPY_MODEL_826c3c2d4dd64898a52db84871c53e37"
      ],
      "layout": "IPY_MODEL_9c64d4596ac947a48243a832e00dde49"
     }
    },
    "79f9f2026d734ea9954c6e1e44c0079b": {
     "model_module": "@jupyter-widgets/controls",
     "model_module_version": "1.5.0",
     "model_name": "DescriptionStyleModel",
     "state": {
      "_model_module": "@jupyter-widgets/controls",
      "_model_module_version": "1.5.0",
      "_model_name": "DescriptionStyleModel",
      "_view_count": null,
      "_view_module": "@jupyter-widgets/base",
      "_view_module_version": "1.2.0",
      "_view_name": "StyleView",
      "description_width": ""
     }
    },
    "7b77b02c6708482d86a42bca67f8393a": {
     "model_module": "@jupyter-widgets/controls",
     "model_module_version": "1.5.0",
     "model_name": "FloatProgressModel",
     "state": {
      "_dom_classes": [],
      "_model_module": "@jupyter-widgets/controls",
      "_model_module_version": "1.5.0",
      "_model_name": "FloatProgressModel",
      "_view_count": null,
      "_view_module": "@jupyter-widgets/controls",
      "_view_module_version": "1.5.0",
      "_view_name": "ProgressView",
      "bar_style": "success",
      "description": "",
      "description_tooltip": null,
      "layout": "IPY_MODEL_7c220fa25b374b2599dfe046ddc37d89",
      "max": 548123571,
      "min": 0,
      "orientation": "horizontal",
      "style": "IPY_MODEL_7fc9cd6b47ed4aba95b04cc5fe523015",
      "value": 548123571
     }
    },
    "7c220fa25b374b2599dfe046ddc37d89": {
     "model_module": "@jupyter-widgets/base",
     "model_module_version": "1.2.0",
     "model_name": "LayoutModel",
     "state": {
      "_model_module": "@jupyter-widgets/base",
      "_model_module_version": "1.2.0",
      "_model_name": "LayoutModel",
      "_view_count": null,
      "_view_module": "@jupyter-widgets/base",
      "_view_module_version": "1.2.0",
      "_view_name": "LayoutView",
      "align_content": null,
      "align_items": null,
      "align_self": null,
      "border": null,
      "bottom": null,
      "display": null,
      "flex": null,
      "flex_flow": null,
      "grid_area": null,
      "grid_auto_columns": null,
      "grid_auto_flow": null,
      "grid_auto_rows": null,
      "grid_column": null,
      "grid_gap": null,
      "grid_row": null,
      "grid_template_areas": null,
      "grid_template_columns": null,
      "grid_template_rows": null,
      "height": null,
      "justify_content": null,
      "justify_items": null,
      "left": null,
      "margin": null,
      "max_height": null,
      "max_width": null,
      "min_height": null,
      "min_width": null,
      "object_fit": null,
      "object_position": null,
      "order": null,
      "overflow": null,
      "overflow_x": null,
      "overflow_y": null,
      "padding": null,
      "right": null,
      "top": null,
      "visibility": null,
      "width": null
     }
    },
    "7c74b8eb81d04827a92d9c5b21506854": {
     "model_module": "@jupyter-widgets/controls",
     "model_module_version": "1.5.0",
     "model_name": "HTMLModel",
     "state": {
      "_dom_classes": [],
      "_model_module": "@jupyter-widgets/controls",
      "_model_module_version": "1.5.0",
      "_model_name": "HTMLModel",
      "_view_count": null,
      "_view_module": "@jupyter-widgets/controls",
      "_view_module_version": "1.5.0",
      "_view_name": "HTMLView",
      "description": "",
      "description_tooltip": null,
      "layout": "IPY_MODEL_0daf9a0c32c24e1b9e5b89ff9f624cdb",
      "placeholder": "​",
      "style": "IPY_MODEL_b716c23526ec47a987153737ce72fe6b",
      "value": " 22578/22578 [00:46&lt;00:00, 1125.74 examples/s]"
     }
    },
    "7c8d3a71da3949ea89d477684979c7fc": {
     "model_module": "@jupyter-widgets/controls",
     "model_module_version": "1.5.0",
     "model_name": "DescriptionStyleModel",
     "state": {
      "_model_module": "@jupyter-widgets/controls",
      "_model_module_version": "1.5.0",
      "_model_name": "DescriptionStyleModel",
      "_view_count": null,
      "_view_module": "@jupyter-widgets/base",
      "_view_module_version": "1.2.0",
      "_view_name": "StyleView",
      "description_width": ""
     }
    },
    "7fc9cd6b47ed4aba95b04cc5fe523015": {
     "model_module": "@jupyter-widgets/controls",
     "model_module_version": "1.5.0",
     "model_name": "ProgressStyleModel",
     "state": {
      "_model_module": "@jupyter-widgets/controls",
      "_model_module_version": "1.5.0",
      "_model_name": "ProgressStyleModel",
      "_view_count": null,
      "_view_module": "@jupyter-widgets/base",
      "_view_module_version": "1.2.0",
      "_view_name": "StyleView",
      "bar_color": null,
      "description_width": ""
     }
    },
    "826c3c2d4dd64898a52db84871c53e37": {
     "model_module": "@jupyter-widgets/controls",
     "model_module_version": "1.5.0",
     "model_name": "HTMLModel",
     "state": {
      "_dom_classes": [],
      "_model_module": "@jupyter-widgets/controls",
      "_model_module_version": "1.5.0",
      "_model_name": "HTMLModel",
      "_view_count": null,
      "_view_module": "@jupyter-widgets/controls",
      "_view_module_version": "1.5.0",
      "_view_name": "HTMLView",
      "description": "",
      "description_tooltip": null,
      "layout": "IPY_MODEL_25dbb9dab3be451fbae095e34fcad18e",
      "placeholder": "​",
      "style": "IPY_MODEL_a77e5075ec554c2d8cb462a0666e5108",
      "value": " 548M/548M [00:14&lt;00:00, 60.0MB/s]"
     }
    },
    "86f7c09351dd4ea48ab29c302dc92b96": {
     "model_module": "@jupyter-widgets/base",
     "model_module_version": "1.2.0",
     "model_name": "LayoutModel",
     "state": {
      "_model_module": "@jupyter-widgets/base",
      "_model_module_version": "1.2.0",
      "_model_name": "LayoutModel",
      "_view_count": null,
      "_view_module": "@jupyter-widgets/base",
      "_view_module_version": "1.2.0",
      "_view_name": "LayoutView",
      "align_content": null,
      "align_items": null,
      "align_self": null,
      "border": null,
      "bottom": null,
      "display": null,
      "flex": null,
      "flex_flow": null,
      "grid_area": null,
      "grid_auto_columns": null,
      "grid_auto_flow": null,
      "grid_auto_rows": null,
      "grid_column": null,
      "grid_gap": null,
      "grid_row": null,
      "grid_template_areas": null,
      "grid_template_columns": null,
      "grid_template_rows": null,
      "height": null,
      "justify_content": null,
      "justify_items": null,
      "left": null,
      "margin": null,
      "max_height": null,
      "max_width": null,
      "min_height": null,
      "min_width": null,
      "object_fit": null,
      "object_position": null,
      "order": null,
      "overflow": null,
      "overflow_x": null,
      "overflow_y": null,
      "padding": null,
      "right": null,
      "top": null,
      "visibility": null,
      "width": null
     }
    },
    "88756c33f9e445cb84b54668e86f4895": {
     "model_module": "@jupyter-widgets/controls",
     "model_module_version": "1.5.0",
     "model_name": "HTMLModel",
     "state": {
      "_dom_classes": [],
      "_model_module": "@jupyter-widgets/controls",
      "_model_module_version": "1.5.0",
      "_model_name": "HTMLModel",
      "_view_count": null,
      "_view_module": "@jupyter-widgets/controls",
      "_view_module_version": "1.5.0",
      "_view_name": "HTMLView",
      "description": "",
      "description_tooltip": null,
      "layout": "IPY_MODEL_fa3684b160b040118693005150836479",
      "placeholder": "​",
      "style": "IPY_MODEL_d851ad7dd13c4d20bb82caa73bd85122",
      "value": "merges.txt: "
     }
    },
    "89a91db4fbec4f00991dae0e257f7145": {
     "model_module": "@jupyter-widgets/base",
     "model_module_version": "1.2.0",
     "model_name": "LayoutModel",
     "state": {
      "_model_module": "@jupyter-widgets/base",
      "_model_module_version": "1.2.0",
      "_model_name": "LayoutModel",
      "_view_count": null,
      "_view_module": "@jupyter-widgets/base",
      "_view_module_version": "1.2.0",
      "_view_name": "LayoutView",
      "align_content": null,
      "align_items": null,
      "align_self": null,
      "border": null,
      "bottom": null,
      "display": null,
      "flex": null,
      "flex_flow": null,
      "grid_area": null,
      "grid_auto_columns": null,
      "grid_auto_flow": null,
      "grid_auto_rows": null,
      "grid_column": null,
      "grid_gap": null,
      "grid_row": null,
      "grid_template_areas": null,
      "grid_template_columns": null,
      "grid_template_rows": null,
      "height": null,
      "justify_content": null,
      "justify_items": null,
      "left": null,
      "margin": null,
      "max_height": null,
      "max_width": null,
      "min_height": null,
      "min_width": null,
      "object_fit": null,
      "object_position": null,
      "order": null,
      "overflow": null,
      "overflow_x": null,
      "overflow_y": null,
      "padding": null,
      "right": null,
      "top": null,
      "visibility": null,
      "width": null
     }
    },
    "8d04c2f5555b4ae385fad417f7faf829": {
     "model_module": "@jupyter-widgets/base",
     "model_module_version": "1.2.0",
     "model_name": "LayoutModel",
     "state": {
      "_model_module": "@jupyter-widgets/base",
      "_model_module_version": "1.2.0",
      "_model_name": "LayoutModel",
      "_view_count": null,
      "_view_module": "@jupyter-widgets/base",
      "_view_module_version": "1.2.0",
      "_view_name": "LayoutView",
      "align_content": null,
      "align_items": null,
      "align_self": null,
      "border": null,
      "bottom": null,
      "display": null,
      "flex": null,
      "flex_flow": null,
      "grid_area": null,
      "grid_auto_columns": null,
      "grid_auto_flow": null,
      "grid_auto_rows": null,
      "grid_column": null,
      "grid_gap": null,
      "grid_row": null,
      "grid_template_areas": null,
      "grid_template_columns": null,
      "grid_template_rows": null,
      "height": null,
      "justify_content": null,
      "justify_items": null,
      "left": null,
      "margin": null,
      "max_height": null,
      "max_width": null,
      "min_height": null,
      "min_width": null,
      "object_fit": null,
      "object_position": null,
      "order": null,
      "overflow": null,
      "overflow_x": null,
      "overflow_y": null,
      "padding": null,
      "right": null,
      "top": null,
      "visibility": null,
      "width": null
     }
    },
    "91c987fe9e37434bafff869e52564e57": {
     "model_module": "@jupyter-widgets/controls",
     "model_module_version": "1.5.0",
     "model_name": "ProgressStyleModel",
     "state": {
      "_model_module": "@jupyter-widgets/controls",
      "_model_module_version": "1.5.0",
      "_model_name": "ProgressStyleModel",
      "_view_count": null,
      "_view_module": "@jupyter-widgets/base",
      "_view_module_version": "1.2.0",
      "_view_name": "StyleView",
      "bar_color": null,
      "description_width": ""
     }
    },
    "9347c2fd53ba47a2b8b86043ba529d23": {
     "model_module": "@jupyter-widgets/base",
     "model_module_version": "1.2.0",
     "model_name": "LayoutModel",
     "state": {
      "_model_module": "@jupyter-widgets/base",
      "_model_module_version": "1.2.0",
      "_model_name": "LayoutModel",
      "_view_count": null,
      "_view_module": "@jupyter-widgets/base",
      "_view_module_version": "1.2.0",
      "_view_name": "LayoutView",
      "align_content": null,
      "align_items": null,
      "align_self": null,
      "border": null,
      "bottom": null,
      "display": null,
      "flex": null,
      "flex_flow": null,
      "grid_area": null,
      "grid_auto_columns": null,
      "grid_auto_flow": null,
      "grid_auto_rows": null,
      "grid_column": null,
      "grid_gap": null,
      "grid_row": null,
      "grid_template_areas": null,
      "grid_template_columns": null,
      "grid_template_rows": null,
      "height": null,
      "justify_content": null,
      "justify_items": null,
      "left": null,
      "margin": null,
      "max_height": null,
      "max_width": null,
      "min_height": null,
      "min_width": null,
      "object_fit": null,
      "object_position": null,
      "order": null,
      "overflow": null,
      "overflow_x": null,
      "overflow_y": null,
      "padding": null,
      "right": null,
      "top": null,
      "visibility": null,
      "width": null
     }
    },
    "95717658f85a4029bb2a3b19acc0abab": {
     "model_module": "@jupyter-widgets/controls",
     "model_module_version": "1.5.0",
     "model_name": "FloatProgressModel",
     "state": {
      "_dom_classes": [],
      "_model_module": "@jupyter-widgets/controls",
      "_model_module_version": "1.5.0",
      "_model_name": "FloatProgressModel",
      "_view_count": null,
      "_view_module": "@jupyter-widgets/controls",
      "_view_module_version": "1.5.0",
      "_view_name": "ProgressView",
      "bar_style": "success",
      "description": "",
      "description_tooltip": null,
      "layout": "IPY_MODEL_3e6e5d254a794b528dd8821a9f917a72",
      "max": 577,
      "min": 0,
      "orientation": "horizontal",
      "style": "IPY_MODEL_76a3259150b84ded834fab84e826a027",
      "value": 577
     }
    },
    "95a40e299c834d00b51921f17a37bc95": {
     "model_module": "@jupyter-widgets/controls",
     "model_module_version": "1.5.0",
     "model_name": "HTMLModel",
     "state": {
      "_dom_classes": [],
      "_model_module": "@jupyter-widgets/controls",
      "_model_module_version": "1.5.0",
      "_model_name": "HTMLModel",
      "_view_count": null,
      "_view_module": "@jupyter-widgets/controls",
      "_view_module_version": "1.5.0",
      "_view_name": "HTMLView",
      "description": "",
      "description_tooltip": null,
      "layout": "IPY_MODEL_54873d33c4994be08ce614a91b85c020",
      "placeholder": "​",
      "style": "IPY_MODEL_5606675ab72d4d159aad33e1a35b0646",
      "value": " 22578/22578 [00:01&lt;00:00, 12320.13 examples/s]"
     }
    },
    "978bf5b6be6a40428acdb0868e70d385": {
     "model_module": "@jupyter-widgets/controls",
     "model_module_version": "1.5.0",
     "model_name": "FloatProgressModel",
     "state": {
      "_dom_classes": [],
      "_model_module": "@jupyter-widgets/controls",
      "_model_module_version": "1.5.0",
      "_model_name": "FloatProgressModel",
      "_view_count": null,
      "_view_module": "@jupyter-widgets/controls",
      "_view_module_version": "1.5.0",
      "_view_name": "ProgressView",
      "bar_style": "success",
      "description": "",
      "description_tooltip": null,
      "layout": "IPY_MODEL_f4bdc4ef2168438eb3ba63eaf0e3ac02",
      "max": 22578,
      "min": 0,
      "orientation": "horizontal",
      "style": "IPY_MODEL_fafcbc887b9d486f98d089d3c312b067",
      "value": 22578
     }
    },
    "9872eba8f2324f2ba022cb826661000c": {
     "model_module": "@jupyter-widgets/base",
     "model_module_version": "1.2.0",
     "model_name": "LayoutModel",
     "state": {
      "_model_module": "@jupyter-widgets/base",
      "_model_module_version": "1.2.0",
      "_model_name": "LayoutModel",
      "_view_count": null,
      "_view_module": "@jupyter-widgets/base",
      "_view_module_version": "1.2.0",
      "_view_name": "LayoutView",
      "align_content": null,
      "align_items": null,
      "align_self": null,
      "border": null,
      "bottom": null,
      "display": null,
      "flex": null,
      "flex_flow": null,
      "grid_area": null,
      "grid_auto_columns": null,
      "grid_auto_flow": null,
      "grid_auto_rows": null,
      "grid_column": null,
      "grid_gap": null,
      "grid_row": null,
      "grid_template_areas": null,
      "grid_template_columns": null,
      "grid_template_rows": null,
      "height": null,
      "justify_content": null,
      "justify_items": null,
      "left": null,
      "margin": null,
      "max_height": null,
      "max_width": null,
      "min_height": null,
      "min_width": null,
      "object_fit": null,
      "object_position": null,
      "order": null,
      "overflow": null,
      "overflow_x": null,
      "overflow_y": null,
      "padding": null,
      "right": null,
      "top": null,
      "visibility": null,
      "width": null
     }
    },
    "996ce9665a0e4e619bcee99f4158bf2b": {
     "model_module": "@jupyter-widgets/base",
     "model_module_version": "1.2.0",
     "model_name": "LayoutModel",
     "state": {
      "_model_module": "@jupyter-widgets/base",
      "_model_module_version": "1.2.0",
      "_model_name": "LayoutModel",
      "_view_count": null,
      "_view_module": "@jupyter-widgets/base",
      "_view_module_version": "1.2.0",
      "_view_name": "LayoutView",
      "align_content": null,
      "align_items": null,
      "align_self": null,
      "border": null,
      "bottom": null,
      "display": null,
      "flex": null,
      "flex_flow": null,
      "grid_area": null,
      "grid_auto_columns": null,
      "grid_auto_flow": null,
      "grid_auto_rows": null,
      "grid_column": null,
      "grid_gap": null,
      "grid_row": null,
      "grid_template_areas": null,
      "grid_template_columns": null,
      "grid_template_rows": null,
      "height": null,
      "justify_content": null,
      "justify_items": null,
      "left": null,
      "margin": null,
      "max_height": null,
      "max_width": null,
      "min_height": null,
      "min_width": null,
      "object_fit": null,
      "object_position": null,
      "order": null,
      "overflow": null,
      "overflow_x": null,
      "overflow_y": null,
      "padding": null,
      "right": null,
      "top": null,
      "visibility": null,
      "width": "20px"
     }
    },
    "997800455e424581b6bb46ef9d2478d9": {
     "model_module": "@jupyter-widgets/controls",
     "model_module_version": "1.5.0",
     "model_name": "ProgressStyleModel",
     "state": {
      "_model_module": "@jupyter-widgets/controls",
      "_model_module_version": "1.5.0",
      "_model_name": "ProgressStyleModel",
      "_view_count": null,
      "_view_module": "@jupyter-widgets/base",
      "_view_module_version": "1.2.0",
      "_view_name": "StyleView",
      "bar_color": null,
      "description_width": ""
     }
    },
    "9c64d4596ac947a48243a832e00dde49": {
     "model_module": "@jupyter-widgets/base",
     "model_module_version": "1.2.0",
     "model_name": "LayoutModel",
     "state": {
      "_model_module": "@jupyter-widgets/base",
      "_model_module_version": "1.2.0",
      "_model_name": "LayoutModel",
      "_view_count": null,
      "_view_module": "@jupyter-widgets/base",
      "_view_module_version": "1.2.0",
      "_view_name": "LayoutView",
      "align_content": null,
      "align_items": null,
      "align_self": null,
      "border": null,
      "bottom": null,
      "display": null,
      "flex": null,
      "flex_flow": null,
      "grid_area": null,
      "grid_auto_columns": null,
      "grid_auto_flow": null,
      "grid_auto_rows": null,
      "grid_column": null,
      "grid_gap": null,
      "grid_row": null,
      "grid_template_areas": null,
      "grid_template_columns": null,
      "grid_template_rows": null,
      "height": null,
      "justify_content": null,
      "justify_items": null,
      "left": null,
      "margin": null,
      "max_height": null,
      "max_width": null,
      "min_height": null,
      "min_width": null,
      "object_fit": null,
      "object_position": null,
      "order": null,
      "overflow": null,
      "overflow_x": null,
      "overflow_y": null,
      "padding": null,
      "right": null,
      "top": null,
      "visibility": null,
      "width": null
     }
    },
    "a14dcdd1868b4ad1853d7b41e91f0c77": {
     "model_module": "@jupyter-widgets/base",
     "model_module_version": "1.2.0",
     "model_name": "LayoutModel",
     "state": {
      "_model_module": "@jupyter-widgets/base",
      "_model_module_version": "1.2.0",
      "_model_name": "LayoutModel",
      "_view_count": null,
      "_view_module": "@jupyter-widgets/base",
      "_view_module_version": "1.2.0",
      "_view_name": "LayoutView",
      "align_content": null,
      "align_items": null,
      "align_self": null,
      "border": null,
      "bottom": null,
      "display": null,
      "flex": null,
      "flex_flow": null,
      "grid_area": null,
      "grid_auto_columns": null,
      "grid_auto_flow": null,
      "grid_auto_rows": null,
      "grid_column": null,
      "grid_gap": null,
      "grid_row": null,
      "grid_template_areas": null,
      "grid_template_columns": null,
      "grid_template_rows": null,
      "height": null,
      "justify_content": null,
      "justify_items": null,
      "left": null,
      "margin": null,
      "max_height": null,
      "max_width": null,
      "min_height": null,
      "min_width": null,
      "object_fit": null,
      "object_position": null,
      "order": null,
      "overflow": null,
      "overflow_x": null,
      "overflow_y": null,
      "padding": null,
      "right": null,
      "top": null,
      "visibility": null,
      "width": null
     }
    },
    "a5133225944242ea8566decf4169a7ca": {
     "model_module": "@jupyter-widgets/base",
     "model_module_version": "1.2.0",
     "model_name": "LayoutModel",
     "state": {
      "_model_module": "@jupyter-widgets/base",
      "_model_module_version": "1.2.0",
      "_model_name": "LayoutModel",
      "_view_count": null,
      "_view_module": "@jupyter-widgets/base",
      "_view_module_version": "1.2.0",
      "_view_name": "LayoutView",
      "align_content": null,
      "align_items": null,
      "align_self": null,
      "border": null,
      "bottom": null,
      "display": null,
      "flex": null,
      "flex_flow": null,
      "grid_area": null,
      "grid_auto_columns": null,
      "grid_auto_flow": null,
      "grid_auto_rows": null,
      "grid_column": null,
      "grid_gap": null,
      "grid_row": null,
      "grid_template_areas": null,
      "grid_template_columns": null,
      "grid_template_rows": null,
      "height": null,
      "justify_content": null,
      "justify_items": null,
      "left": null,
      "margin": null,
      "max_height": null,
      "max_width": null,
      "min_height": null,
      "min_width": null,
      "object_fit": null,
      "object_position": null,
      "order": null,
      "overflow": null,
      "overflow_x": null,
      "overflow_y": null,
      "padding": null,
      "right": null,
      "top": null,
      "visibility": null,
      "width": null
     }
    },
    "a77e5075ec554c2d8cb462a0666e5108": {
     "model_module": "@jupyter-widgets/controls",
     "model_module_version": "1.5.0",
     "model_name": "DescriptionStyleModel",
     "state": {
      "_model_module": "@jupyter-widgets/controls",
      "_model_module_version": "1.5.0",
      "_model_name": "DescriptionStyleModel",
      "_view_count": null,
      "_view_module": "@jupyter-widgets/base",
      "_view_module_version": "1.2.0",
      "_view_name": "StyleView",
      "description_width": ""
     }
    },
    "af795f97c4374b3f9f9ed5a983b2305b": {
     "model_module": "@jupyter-widgets/controls",
     "model_module_version": "1.5.0",
     "model_name": "HTMLModel",
     "state": {
      "_dom_classes": [],
      "_model_module": "@jupyter-widgets/controls",
      "_model_module_version": "1.5.0",
      "_model_name": "HTMLModel",
      "_view_count": null,
      "_view_module": "@jupyter-widgets/controls",
      "_view_module_version": "1.5.0",
      "_view_name": "HTMLView",
      "description": "",
      "description_tooltip": null,
      "layout": "IPY_MODEL_9872eba8f2324f2ba022cb826661000c",
      "placeholder": "​",
      "style": "IPY_MODEL_0698bcc01ea147218f0835df73fe403d",
      "value": " 456k/? [00:00&lt;00:00, 1.98MB/s]"
     }
    },
    "b03f66aa0e1648e5aaae9e5abd560b16": {
     "model_module": "@jupyter-widgets/base",
     "model_module_version": "1.2.0",
     "model_name": "LayoutModel",
     "state": {
      "_model_module": "@jupyter-widgets/base",
      "_model_module_version": "1.2.0",
      "_model_name": "LayoutModel",
      "_view_count": null,
      "_view_module": "@jupyter-widgets/base",
      "_view_module_version": "1.2.0",
      "_view_name": "LayoutView",
      "align_content": null,
      "align_items": null,
      "align_self": null,
      "border": null,
      "bottom": null,
      "display": null,
      "flex": null,
      "flex_flow": null,
      "grid_area": null,
      "grid_auto_columns": null,
      "grid_auto_flow": null,
      "grid_auto_rows": null,
      "grid_column": null,
      "grid_gap": null,
      "grid_row": null,
      "grid_template_areas": null,
      "grid_template_columns": null,
      "grid_template_rows": null,
      "height": null,
      "justify_content": null,
      "justify_items": null,
      "left": null,
      "margin": null,
      "max_height": null,
      "max_width": null,
      "min_height": null,
      "min_width": null,
      "object_fit": null,
      "object_position": null,
      "order": null,
      "overflow": null,
      "overflow_x": null,
      "overflow_y": null,
      "padding": null,
      "right": null,
      "top": null,
      "visibility": null,
      "width": null
     }
    },
    "b086a549590a4215bda97d750b65235e": {
     "model_module": "@jupyter-widgets/controls",
     "model_module_version": "1.5.0",
     "model_name": "HTMLModel",
     "state": {
      "_dom_classes": [],
      "_model_module": "@jupyter-widgets/controls",
      "_model_module_version": "1.5.0",
      "_model_name": "HTMLModel",
      "_view_count": null,
      "_view_module": "@jupyter-widgets/controls",
      "_view_module_version": "1.5.0",
      "_view_name": "HTMLView",
      "description": "",
      "description_tooltip": null,
      "layout": "IPY_MODEL_5b592ffac1a3476cb52c9e28e4a1c815",
      "placeholder": "​",
      "style": "IPY_MODEL_12c702f541454560aa9484547995834f",
      "value": "Map: 100%"
     }
    },
    "b4987dde895e461fa78c76ef75dd49c8": {
     "model_module": "@jupyter-widgets/base",
     "model_module_version": "1.2.0",
     "model_name": "LayoutModel",
     "state": {
      "_model_module": "@jupyter-widgets/base",
      "_model_module_version": "1.2.0",
      "_model_name": "LayoutModel",
      "_view_count": null,
      "_view_module": "@jupyter-widgets/base",
      "_view_module_version": "1.2.0",
      "_view_name": "LayoutView",
      "align_content": null,
      "align_items": null,
      "align_self": null,
      "border": null,
      "bottom": null,
      "display": null,
      "flex": null,
      "flex_flow": null,
      "grid_area": null,
      "grid_auto_columns": null,
      "grid_auto_flow": null,
      "grid_auto_rows": null,
      "grid_column": null,
      "grid_gap": null,
      "grid_row": null,
      "grid_template_areas": null,
      "grid_template_columns": null,
      "grid_template_rows": null,
      "height": null,
      "justify_content": null,
      "justify_items": null,
      "left": null,
      "margin": null,
      "max_height": null,
      "max_width": null,
      "min_height": null,
      "min_width": null,
      "object_fit": null,
      "object_position": null,
      "order": null,
      "overflow": null,
      "overflow_x": null,
      "overflow_y": null,
      "padding": null,
      "right": null,
      "top": null,
      "visibility": null,
      "width": null
     }
    },
    "b54a2ad0639b4091ac70c642274851b4": {
     "model_module": "@jupyter-widgets/base",
     "model_module_version": "1.2.0",
     "model_name": "LayoutModel",
     "state": {
      "_model_module": "@jupyter-widgets/base",
      "_model_module_version": "1.2.0",
      "_model_name": "LayoutModel",
      "_view_count": null,
      "_view_module": "@jupyter-widgets/base",
      "_view_module_version": "1.2.0",
      "_view_name": "LayoutView",
      "align_content": null,
      "align_items": null,
      "align_self": null,
      "border": null,
      "bottom": null,
      "display": null,
      "flex": null,
      "flex_flow": null,
      "grid_area": null,
      "grid_auto_columns": null,
      "grid_auto_flow": null,
      "grid_auto_rows": null,
      "grid_column": null,
      "grid_gap": null,
      "grid_row": null,
      "grid_template_areas": null,
      "grid_template_columns": null,
      "grid_template_rows": null,
      "height": null,
      "justify_content": null,
      "justify_items": null,
      "left": null,
      "margin": null,
      "max_height": null,
      "max_width": null,
      "min_height": null,
      "min_width": null,
      "object_fit": null,
      "object_position": null,
      "order": null,
      "overflow": null,
      "overflow_x": null,
      "overflow_y": null,
      "padding": null,
      "right": null,
      "top": null,
      "visibility": null,
      "width": null
     }
    },
    "b716c23526ec47a987153737ce72fe6b": {
     "model_module": "@jupyter-widgets/controls",
     "model_module_version": "1.5.0",
     "model_name": "DescriptionStyleModel",
     "state": {
      "_model_module": "@jupyter-widgets/controls",
      "_model_module_version": "1.5.0",
      "_model_name": "DescriptionStyleModel",
      "_view_count": null,
      "_view_module": "@jupyter-widgets/base",
      "_view_module_version": "1.2.0",
      "_view_name": "StyleView",
      "description_width": ""
     }
    },
    "b78d2949b2964ae29757595d79a3d256": {
     "model_module": "@jupyter-widgets/base",
     "model_module_version": "1.2.0",
     "model_name": "LayoutModel",
     "state": {
      "_model_module": "@jupyter-widgets/base",
      "_model_module_version": "1.2.0",
      "_model_name": "LayoutModel",
      "_view_count": null,
      "_view_module": "@jupyter-widgets/base",
      "_view_module_version": "1.2.0",
      "_view_name": "LayoutView",
      "align_content": null,
      "align_items": null,
      "align_self": null,
      "border": null,
      "bottom": null,
      "display": null,
      "flex": null,
      "flex_flow": null,
      "grid_area": null,
      "grid_auto_columns": null,
      "grid_auto_flow": null,
      "grid_auto_rows": null,
      "grid_column": null,
      "grid_gap": null,
      "grid_row": null,
      "grid_template_areas": null,
      "grid_template_columns": null,
      "grid_template_rows": null,
      "height": null,
      "justify_content": null,
      "justify_items": null,
      "left": null,
      "margin": null,
      "max_height": null,
      "max_width": null,
      "min_height": null,
      "min_width": null,
      "object_fit": null,
      "object_position": null,
      "order": null,
      "overflow": null,
      "overflow_x": null,
      "overflow_y": null,
      "padding": null,
      "right": null,
      "top": null,
      "visibility": null,
      "width": null
     }
    },
    "b90a41b123cc4365961d5fd1e55bee39": {
     "model_module": "@jupyter-widgets/controls",
     "model_module_version": "1.5.0",
     "model_name": "DescriptionStyleModel",
     "state": {
      "_model_module": "@jupyter-widgets/controls",
      "_model_module_version": "1.5.0",
      "_model_name": "DescriptionStyleModel",
      "_view_count": null,
      "_view_module": "@jupyter-widgets/base",
      "_view_module_version": "1.2.0",
      "_view_name": "StyleView",
      "description_width": ""
     }
    },
    "bc3f85935c9040faafbb0c0bdc7a7923": {
     "model_module": "@jupyter-widgets/base",
     "model_module_version": "1.2.0",
     "model_name": "LayoutModel",
     "state": {
      "_model_module": "@jupyter-widgets/base",
      "_model_module_version": "1.2.0",
      "_model_name": "LayoutModel",
      "_view_count": null,
      "_view_module": "@jupyter-widgets/base",
      "_view_module_version": "1.2.0",
      "_view_name": "LayoutView",
      "align_content": null,
      "align_items": null,
      "align_self": null,
      "border": null,
      "bottom": null,
      "display": null,
      "flex": null,
      "flex_flow": null,
      "grid_area": null,
      "grid_auto_columns": null,
      "grid_auto_flow": null,
      "grid_auto_rows": null,
      "grid_column": null,
      "grid_gap": null,
      "grid_row": null,
      "grid_template_areas": null,
      "grid_template_columns": null,
      "grid_template_rows": null,
      "height": null,
      "justify_content": null,
      "justify_items": null,
      "left": null,
      "margin": null,
      "max_height": null,
      "max_width": null,
      "min_height": null,
      "min_width": null,
      "object_fit": null,
      "object_position": null,
      "order": null,
      "overflow": null,
      "overflow_x": null,
      "overflow_y": null,
      "padding": null,
      "right": null,
      "top": null,
      "visibility": null,
      "width": null
     }
    },
    "bc4d36c1d6014aaebcf5e7eb83dcebe5": {
     "model_module": "@jupyter-widgets/controls",
     "model_module_version": "1.5.0",
     "model_name": "HTMLModel",
     "state": {
      "_dom_classes": [],
      "_model_module": "@jupyter-widgets/controls",
      "_model_module_version": "1.5.0",
      "_model_name": "HTMLModel",
      "_view_count": null,
      "_view_module": "@jupyter-widgets/controls",
      "_view_module_version": "1.5.0",
      "_view_name": "HTMLView",
      "description": "",
      "description_tooltip": null,
      "layout": "IPY_MODEL_18bcf0683f134636b2d062e1d8e92dca",
      "placeholder": "​",
      "style": "IPY_MODEL_76f7e8478f2e4e25a9a60735cd174039",
      "value": " 90.0/90.0 [00:00&lt;00:00, 1.58kB/s]"
     }
    },
    "bc9ebe59c8eb413aa0fe0db169ca69ac": {
     "model_module": "@jupyter-widgets/controls",
     "model_module_version": "1.5.0",
     "model_name": "ProgressStyleModel",
     "state": {
      "_model_module": "@jupyter-widgets/controls",
      "_model_module_version": "1.5.0",
      "_model_name": "ProgressStyleModel",
      "_view_count": null,
      "_view_module": "@jupyter-widgets/base",
      "_view_module_version": "1.2.0",
      "_view_name": "StyleView",
      "bar_color": null,
      "description_width": ""
     }
    },
    "c155ccede0584d93aff0594c0a0996a8": {
     "model_module": "@jupyter-widgets/base",
     "model_module_version": "1.2.0",
     "model_name": "LayoutModel",
     "state": {
      "_model_module": "@jupyter-widgets/base",
      "_model_module_version": "1.2.0",
      "_model_name": "LayoutModel",
      "_view_count": null,
      "_view_module": "@jupyter-widgets/base",
      "_view_module_version": "1.2.0",
      "_view_name": "LayoutView",
      "align_content": null,
      "align_items": null,
      "align_self": null,
      "border": null,
      "bottom": null,
      "display": null,
      "flex": null,
      "flex_flow": null,
      "grid_area": null,
      "grid_auto_columns": null,
      "grid_auto_flow": null,
      "grid_auto_rows": null,
      "grid_column": null,
      "grid_gap": null,
      "grid_row": null,
      "grid_template_areas": null,
      "grid_template_columns": null,
      "grid_template_rows": null,
      "height": null,
      "justify_content": null,
      "justify_items": null,
      "left": null,
      "margin": null,
      "max_height": null,
      "max_width": null,
      "min_height": null,
      "min_width": null,
      "object_fit": null,
      "object_position": null,
      "order": null,
      "overflow": null,
      "overflow_x": null,
      "overflow_y": null,
      "padding": null,
      "right": null,
      "top": null,
      "visibility": null,
      "width": null
     }
    },
    "c7655b1f82f04722965fbb2a5a7386da": {
     "model_module": "@jupyter-widgets/controls",
     "model_module_version": "1.5.0",
     "model_name": "HBoxModel",
     "state": {
      "_dom_classes": [],
      "_model_module": "@jupyter-widgets/controls",
      "_model_module_version": "1.5.0",
      "_model_name": "HBoxModel",
      "_view_count": null,
      "_view_module": "@jupyter-widgets/controls",
      "_view_module_version": "1.5.0",
      "_view_name": "HBoxView",
      "box_style": "",
      "children": [
       "IPY_MODEL_2162d9b7274d4e938b7f2df5e6baf8fc",
       "IPY_MODEL_46ef30bb565d4d3bba56dce1713dd450",
       "IPY_MODEL_5d95e970ccc540388a8c3dd5e91664a4"
      ],
      "layout": "IPY_MODEL_a14dcdd1868b4ad1853d7b41e91f0c77"
     }
    },
    "ca1a60dbf5fd41edb4a2374927d59290": {
     "model_module": "@jupyter-widgets/controls",
     "model_module_version": "1.5.0",
     "model_name": "FloatProgressModel",
     "state": {
      "_dom_classes": [],
      "_model_module": "@jupyter-widgets/controls",
      "_model_module_version": "1.5.0",
      "_model_name": "FloatProgressModel",
      "_view_count": null,
      "_view_module": "@jupyter-widgets/controls",
      "_view_module_version": "1.5.0",
      "_view_name": "ProgressView",
      "bar_style": "success",
      "description": "",
      "description_tooltip": null,
      "layout": "IPY_MODEL_7441a59afd9e410087c6a2e3afb09a89",
      "max": 548107150,
      "min": 0,
      "orientation": "horizontal",
      "style": "IPY_MODEL_53cd92f3da624214b64ff0c9bf59ccda",
      "value": 548107150
     }
    },
    "cbda542d0ba6494eb8a91eb685b066bf": {
     "model_module": "@jupyter-widgets/controls",
     "model_module_version": "1.5.0",
     "model_name": "ProgressStyleModel",
     "state": {
      "_model_module": "@jupyter-widgets/controls",
      "_model_module_version": "1.5.0",
      "_model_name": "ProgressStyleModel",
      "_view_count": null,
      "_view_module": "@jupyter-widgets/base",
      "_view_module_version": "1.2.0",
      "_view_name": "StyleView",
      "bar_color": null,
      "description_width": ""
     }
    },
    "d826c1efbdf2423e853a3b5844f5a979": {
     "model_module": "@jupyter-widgets/controls",
     "model_module_version": "1.5.0",
     "model_name": "HBoxModel",
     "state": {
      "_dom_classes": [],
      "_model_module": "@jupyter-widgets/controls",
      "_model_module_version": "1.5.0",
      "_model_name": "HBoxModel",
      "_view_count": null,
      "_view_module": "@jupyter-widgets/controls",
      "_view_module_version": "1.5.0",
      "_view_name": "HBoxView",
      "box_style": "",
      "children": [
       "IPY_MODEL_b086a549590a4215bda97d750b65235e",
       "IPY_MODEL_2065e1489aef4367b2adc4615dabdcaa",
       "IPY_MODEL_7c74b8eb81d04827a92d9c5b21506854"
      ],
      "layout": "IPY_MODEL_6243cbd9c95e4623aaad3f4cd2c94350"
     }
    },
    "d851ad7dd13c4d20bb82caa73bd85122": {
     "model_module": "@jupyter-widgets/controls",
     "model_module_version": "1.5.0",
     "model_name": "DescriptionStyleModel",
     "state": {
      "_model_module": "@jupyter-widgets/controls",
      "_model_module_version": "1.5.0",
      "_model_name": "DescriptionStyleModel",
      "_view_count": null,
      "_view_module": "@jupyter-widgets/base",
      "_view_module_version": "1.2.0",
      "_view_name": "StyleView",
      "description_width": ""
     }
    },
    "e71bc8d668ab42778a533cdb23100684": {
     "model_module": "@jupyter-widgets/controls",
     "model_module_version": "1.5.0",
     "model_name": "HTMLModel",
     "state": {
      "_dom_classes": [],
      "_model_module": "@jupyter-widgets/controls",
      "_model_module_version": "1.5.0",
      "_model_name": "HTMLModel",
      "_view_count": null,
      "_view_module": "@jupyter-widgets/controls",
      "_view_module_version": "1.5.0",
      "_view_name": "HTMLView",
      "description": "",
      "description_tooltip": null,
      "layout": "IPY_MODEL_86f7c09351dd4ea48ab29c302dc92b96",
      "placeholder": "​",
      "style": "IPY_MODEL_66055024841d4158b60bdfd4945a4c88",
      "value": "config.json: 100%"
     }
    },
    "e83378f641b644c49b128d7ed46a854d": {
     "model_module": "@jupyter-widgets/base",
     "model_module_version": "1.2.0",
     "model_name": "LayoutModel",
     "state": {
      "_model_module": "@jupyter-widgets/base",
      "_model_module_version": "1.2.0",
      "_model_name": "LayoutModel",
      "_view_count": null,
      "_view_module": "@jupyter-widgets/base",
      "_view_module_version": "1.2.0",
      "_view_name": "LayoutView",
      "align_content": null,
      "align_items": null,
      "align_self": null,
      "border": null,
      "bottom": null,
      "display": null,
      "flex": null,
      "flex_flow": null,
      "grid_area": null,
      "grid_auto_columns": null,
      "grid_auto_flow": null,
      "grid_auto_rows": null,
      "grid_column": null,
      "grid_gap": null,
      "grid_row": null,
      "grid_template_areas": null,
      "grid_template_columns": null,
      "grid_template_rows": null,
      "height": null,
      "justify_content": null,
      "justify_items": null,
      "left": null,
      "margin": null,
      "max_height": null,
      "max_width": null,
      "min_height": null,
      "min_width": null,
      "object_fit": null,
      "object_position": null,
      "order": null,
      "overflow": null,
      "overflow_x": null,
      "overflow_y": null,
      "padding": null,
      "right": null,
      "top": null,
      "visibility": null,
      "width": null
     }
    },
    "e9bf560ab9594085af461375b0183700": {
     "model_module": "@jupyter-widgets/controls",
     "model_module_version": "1.5.0",
     "model_name": "HTMLModel",
     "state": {
      "_dom_classes": [],
      "_model_module": "@jupyter-widgets/controls",
      "_model_module_version": "1.5.0",
      "_model_name": "HTMLModel",
      "_view_count": null,
      "_view_module": "@jupyter-widgets/controls",
      "_view_module_version": "1.5.0",
      "_view_name": "HTMLView",
      "description": "",
      "description_tooltip": null,
      "layout": "IPY_MODEL_3b6913bfbea44634ab179ffa15e914dc",
      "placeholder": "​",
      "style": "IPY_MODEL_fd482ccba50147888af089976c28b715",
      "value": "special_tokens_map.json: 100%"
     }
    },
    "ee179ae75ece44b28ef899851f951188": {
     "model_module": "@jupyter-widgets/controls",
     "model_module_version": "1.5.0",
     "model_name": "FloatProgressModel",
     "state": {
      "_dom_classes": [],
      "_model_module": "@jupyter-widgets/controls",
      "_model_module_version": "1.5.0",
      "_model_name": "FloatProgressModel",
      "_view_count": null,
      "_view_module": "@jupyter-widgets/controls",
      "_view_module_version": "1.5.0",
      "_view_name": "ProgressView",
      "bar_style": "success",
      "description": "",
      "description_tooltip": null,
      "layout": "IPY_MODEL_24890c5b241048bd80a9de9f4a8f6a71",
      "max": 1,
      "min": 0,
      "orientation": "horizontal",
      "style": "IPY_MODEL_5d9d32fbc9694614b49f4f2aff55413e",
      "value": 1
     }
    },
    "f354c62edd804c18bbe11bef04584919": {
     "model_module": "@jupyter-widgets/base",
     "model_module_version": "1.2.0",
     "model_name": "LayoutModel",
     "state": {
      "_model_module": "@jupyter-widgets/base",
      "_model_module_version": "1.2.0",
      "_model_name": "LayoutModel",
      "_view_count": null,
      "_view_module": "@jupyter-widgets/base",
      "_view_module_version": "1.2.0",
      "_view_name": "LayoutView",
      "align_content": null,
      "align_items": null,
      "align_self": null,
      "border": null,
      "bottom": null,
      "display": null,
      "flex": null,
      "flex_flow": null,
      "grid_area": null,
      "grid_auto_columns": null,
      "grid_auto_flow": null,
      "grid_auto_rows": null,
      "grid_column": null,
      "grid_gap": null,
      "grid_row": null,
      "grid_template_areas": null,
      "grid_template_columns": null,
      "grid_template_rows": null,
      "height": null,
      "justify_content": null,
      "justify_items": null,
      "left": null,
      "margin": null,
      "max_height": null,
      "max_width": null,
      "min_height": null,
      "min_width": null,
      "object_fit": null,
      "object_position": null,
      "order": null,
      "overflow": null,
      "overflow_x": null,
      "overflow_y": null,
      "padding": null,
      "right": null,
      "top": null,
      "visibility": null,
      "width": null
     }
    },
    "f4bdc4ef2168438eb3ba63eaf0e3ac02": {
     "model_module": "@jupyter-widgets/base",
     "model_module_version": "1.2.0",
     "model_name": "LayoutModel",
     "state": {
      "_model_module": "@jupyter-widgets/base",
      "_model_module_version": "1.2.0",
      "_model_name": "LayoutModel",
      "_view_count": null,
      "_view_module": "@jupyter-widgets/base",
      "_view_module_version": "1.2.0",
      "_view_name": "LayoutView",
      "align_content": null,
      "align_items": null,
      "align_self": null,
      "border": null,
      "bottom": null,
      "display": null,
      "flex": null,
      "flex_flow": null,
      "grid_area": null,
      "grid_auto_columns": null,
      "grid_auto_flow": null,
      "grid_auto_rows": null,
      "grid_column": null,
      "grid_gap": null,
      "grid_row": null,
      "grid_template_areas": null,
      "grid_template_columns": null,
      "grid_template_rows": null,
      "height": null,
      "justify_content": null,
      "justify_items": null,
      "left": null,
      "margin": null,
      "max_height": null,
      "max_width": null,
      "min_height": null,
      "min_width": null,
      "object_fit": null,
      "object_position": null,
      "order": null,
      "overflow": null,
      "overflow_x": null,
      "overflow_y": null,
      "padding": null,
      "right": null,
      "top": null,
      "visibility": null,
      "width": null
     }
    },
    "f6ec84261084479fb68635213a721c1f": {
     "model_module": "@jupyter-widgets/base",
     "model_module_version": "1.2.0",
     "model_name": "LayoutModel",
     "state": {
      "_model_module": "@jupyter-widgets/base",
      "_model_module_version": "1.2.0",
      "_model_name": "LayoutModel",
      "_view_count": null,
      "_view_module": "@jupyter-widgets/base",
      "_view_module_version": "1.2.0",
      "_view_name": "LayoutView",
      "align_content": null,
      "align_items": null,
      "align_self": null,
      "border": null,
      "bottom": null,
      "display": null,
      "flex": null,
      "flex_flow": null,
      "grid_area": null,
      "grid_auto_columns": null,
      "grid_auto_flow": null,
      "grid_auto_rows": null,
      "grid_column": null,
      "grid_gap": null,
      "grid_row": null,
      "grid_template_areas": null,
      "grid_template_columns": null,
      "grid_template_rows": null,
      "height": null,
      "justify_content": null,
      "justify_items": null,
      "left": null,
      "margin": null,
      "max_height": null,
      "max_width": null,
      "min_height": null,
      "min_width": null,
      "object_fit": null,
      "object_position": null,
      "order": null,
      "overflow": null,
      "overflow_x": null,
      "overflow_y": null,
      "padding": null,
      "right": null,
      "top": null,
      "visibility": null,
      "width": null
     }
    },
    "fa3684b160b040118693005150836479": {
     "model_module": "@jupyter-widgets/base",
     "model_module_version": "1.2.0",
     "model_name": "LayoutModel",
     "state": {
      "_model_module": "@jupyter-widgets/base",
      "_model_module_version": "1.2.0",
      "_model_name": "LayoutModel",
      "_view_count": null,
      "_view_module": "@jupyter-widgets/base",
      "_view_module_version": "1.2.0",
      "_view_name": "LayoutView",
      "align_content": null,
      "align_items": null,
      "align_self": null,
      "border": null,
      "bottom": null,
      "display": null,
      "flex": null,
      "flex_flow": null,
      "grid_area": null,
      "grid_auto_columns": null,
      "grid_auto_flow": null,
      "grid_auto_rows": null,
      "grid_column": null,
      "grid_gap": null,
      "grid_row": null,
      "grid_template_areas": null,
      "grid_template_columns": null,
      "grid_template_rows": null,
      "height": null,
      "justify_content": null,
      "justify_items": null,
      "left": null,
      "margin": null,
      "max_height": null,
      "max_width": null,
      "min_height": null,
      "min_width": null,
      "object_fit": null,
      "object_position": null,
      "order": null,
      "overflow": null,
      "overflow_x": null,
      "overflow_y": null,
      "padding": null,
      "right": null,
      "top": null,
      "visibility": null,
      "width": null
     }
    },
    "fa82928ec98d4ffc9977ae223303a85b": {
     "model_module": "@jupyter-widgets/base",
     "model_module_version": "1.2.0",
     "model_name": "LayoutModel",
     "state": {
      "_model_module": "@jupyter-widgets/base",
      "_model_module_version": "1.2.0",
      "_model_name": "LayoutModel",
      "_view_count": null,
      "_view_module": "@jupyter-widgets/base",
      "_view_module_version": "1.2.0",
      "_view_name": "LayoutView",
      "align_content": null,
      "align_items": null,
      "align_self": null,
      "border": null,
      "bottom": null,
      "display": null,
      "flex": null,
      "flex_flow": null,
      "grid_area": null,
      "grid_auto_columns": null,
      "grid_auto_flow": null,
      "grid_auto_rows": null,
      "grid_column": null,
      "grid_gap": null,
      "grid_row": null,
      "grid_template_areas": null,
      "grid_template_columns": null,
      "grid_template_rows": null,
      "height": null,
      "justify_content": null,
      "justify_items": null,
      "left": null,
      "margin": null,
      "max_height": null,
      "max_width": null,
      "min_height": null,
      "min_width": null,
      "object_fit": null,
      "object_position": null,
      "order": null,
      "overflow": null,
      "overflow_x": null,
      "overflow_y": null,
      "padding": null,
      "right": null,
      "top": null,
      "visibility": null,
      "width": null
     }
    },
    "fafcbc887b9d486f98d089d3c312b067": {
     "model_module": "@jupyter-widgets/controls",
     "model_module_version": "1.5.0",
     "model_name": "ProgressStyleModel",
     "state": {
      "_model_module": "@jupyter-widgets/controls",
      "_model_module_version": "1.5.0",
      "_model_name": "ProgressStyleModel",
      "_view_count": null,
      "_view_module": "@jupyter-widgets/base",
      "_view_module_version": "1.2.0",
      "_view_name": "StyleView",
      "bar_color": null,
      "description_width": ""
     }
    },
    "fd482ccba50147888af089976c28b715": {
     "model_module": "@jupyter-widgets/controls",
     "model_module_version": "1.5.0",
     "model_name": "DescriptionStyleModel",
     "state": {
      "_model_module": "@jupyter-widgets/controls",
      "_model_module_version": "1.5.0",
      "_model_name": "DescriptionStyleModel",
      "_view_count": null,
      "_view_module": "@jupyter-widgets/base",
      "_view_module_version": "1.2.0",
      "_view_name": "StyleView",
      "description_width": ""
     }
    }
   }
  }
 },
 "nbformat": 4,
 "nbformat_minor": 4
}
